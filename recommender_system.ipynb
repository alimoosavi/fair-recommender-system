{
 "cells": [
  {
   "cell_type": "code",
   "execution_count": 16,
   "metadata": {
    "colab": {
     "base_uri": "https://localhost:8080/"
    },
    "id": "LQETyQm5MySc",
    "outputId": "30bbee2c-1b35-471b-bd61-8417e5f5ffd6"
   },
   "outputs": [],
   "source": [
    "!pip install --quiet cornac==1.14.1"
   ]
  },
  {
   "cell_type": "markdown",
   "metadata": {
    "id": "V3QRuc897wer"
   },
   "source": [
    "**Load Dataset**"
   ]
  },
  {
   "cell_type": "code",
   "execution_count": 28,
   "metadata": {
    "scrolled": false
   },
   "outputs": [],
   "source": [
    "from cornac.datasets import movielens\n",
    "\n",
    "ratings = movielens.load_feedback()\n",
    "# trust = filmtrust.load_trust()"
   ]
  },
  {
   "cell_type": "code",
   "execution_count": 29,
   "metadata": {
    "scrolled": true
   },
   "outputs": [
    {
     "name": "stdout",
     "output_type": "stream",
     "text": [
      "rating_threshold = 1.0\n",
      "exclude_unknowns = False\n",
      "---\n",
      "Training data:\n",
      "Number of users = 6040\n",
      "Number of items = 3671\n",
      "Number of ratings = 800167\n",
      "Max rating = 5.0\n",
      "Min rating = 1.0\n",
      "Global mean = 3.6\n",
      "---\n",
      "Test data:\n",
      "Number of users = 6034\n",
      "Number of items = 3470\n",
      "Number of ratings = 200042\n",
      "Number of unknown users = 0\n",
      "Number of unknown items = 35\n",
      "---\n",
      "Total users = 6040\n",
      "Total items = 3706\n",
      "\n",
      "[GlobalAvg] Training started!\n",
      "\n",
      "[GlobalAvg] Evaluation started!\n"
     ]
    },
    {
     "data": {
      "application/vnd.jupyter.widget-view+json": {
       "model_id": "ae3f48f61d1041e5b645dada17e03c19",
       "version_major": 2,
       "version_minor": 0
      },
      "text/plain": [
       "Rating:   0%|          | 0/200042 [00:00<?, ?it/s]"
      ]
     },
     "metadata": {},
     "output_type": "display_data"
    },
    {
     "name": "stdout",
     "output_type": "stream",
     "text": [
      "\n",
      "[MF] Training started!\n"
     ]
    },
    {
     "data": {
      "application/vnd.jupyter.widget-view+json": {
       "model_id": "4cdb852467eb4e1cab3971e010ca1f66",
       "version_major": 2,
       "version_minor": 0
      },
      "text/plain": [
       "  0%|          | 0/25 [00:00<?, ?it/s]"
      ]
     },
     "metadata": {},
     "output_type": "display_data"
    },
    {
     "name": "stdout",
     "output_type": "stream",
     "text": [
      "Optimization finished!\n",
      "\n",
      "[MF] Evaluation started!\n"
     ]
    },
    {
     "data": {
      "application/vnd.jupyter.widget-view+json": {
       "model_id": "bc9396bd174f48ff8f26add2490ca38d",
       "version_major": 2,
       "version_minor": 0
      },
      "text/plain": [
       "Rating:   0%|          | 0/200042 [00:00<?, ?it/s]"
      ]
     },
     "metadata": {},
     "output_type": "display_data"
    },
    {
     "name": "stdout",
     "output_type": "stream",
     "text": [
      "\n",
      "TEST:\n",
      "...\n",
      "          |    MAE |   RMSE | Train (s) | Test (s)\n",
      "--------- + ------ + ------ + --------- + --------\n",
      "GlobalAvg | 0.9418 | 1.0843 |    0.0001 |   3.0686\n",
      "MF        | 0.6911 | 0.8489 |    0.4797 |   4.0341\n",
      "\n"
     ]
    }
   ],
   "source": [
    "import cornac\n",
    "from cornac.datasets import movielens\n",
    "from cornac.eval_methods import RatioSplit\n",
    "\n",
    "ratio_split = RatioSplit(data=movielens.load_feedback(variant='1M'),\n",
    "                         test_size=0.2,\n",
    "                         exclude_unknowns=False,\n",
    "                         verbose=True)\n",
    "\n",
    "global_avg = cornac.models.GlobalAvg()\n",
    "mf = cornac.models.MF(k=10, max_iter=25, learning_rate=0.01, lambda_reg=0.02,\n",
    "                      use_bias=True, early_stop=True, verbose=True)\n",
    "\n",
    "mae = cornac.metrics.MAE()\n",
    "rmse = cornac.metrics.RMSE()\n",
    "\n",
    "exp = cornac.Experiment(eval_method=ratio_split,\n",
    "                        models=[global_avg, mf],\n",
    "                        metrics=[mae, rmse],\n",
    "                        user_based=True)\n",
    "exp.run()"
   ]
  },
  {
   "cell_type": "code",
   "execution_count": 46,
   "metadata": {
    "id": "kRsc6hshmq_0"
   },
   "outputs": [],
   "source": [
    "import pandas as pd\n",
    "pd.options.display.max_rows = 10\n",
    "\n",
    "unames = ['user_id', 'gender', 'age', 'occupation', 'zip']\n",
    "users = pd.read_table('./datasets/MovieLens1M/users.dat', sep='::',header=None, names=unames, engine='python')\n",
    "\n",
    "rnames = ['user_id', 'movie_id', 'rating', 'timestamp']\n",
    "ratings = pd.read_table('./datasets/MovieLens1M/ratings.dat', sep='::',header=None, names=rnames, engine='python')\n",
    "\n",
    "mnames = ['movie_id', 'title', 'genres']\n",
    "movies = pd.read_table('./datasets/MovieLens1M/movies.dat', sep='::',header=None, names=mnames, engine='python', encoding='latin-1')"
   ]
  },
  {
   "cell_type": "code",
   "execution_count": 47,
   "metadata": {
    "colab": {
     "base_uri": "https://localhost:8080/",
     "height": 206
    },
    "id": "AOW6-txWmuQk",
    "outputId": "d834a40d-3a42-46bd-c99f-77c573c93e30"
   },
   "outputs": [
    {
     "data": {
      "text/html": [
       "<div>\n",
       "<style scoped>\n",
       "    .dataframe tbody tr th:only-of-type {\n",
       "        vertical-align: middle;\n",
       "    }\n",
       "\n",
       "    .dataframe tbody tr th {\n",
       "        vertical-align: top;\n",
       "    }\n",
       "\n",
       "    .dataframe thead th {\n",
       "        text-align: right;\n",
       "    }\n",
       "</style>\n",
       "<table border=\"1\" class=\"dataframe\">\n",
       "  <thead>\n",
       "    <tr style=\"text-align: right;\">\n",
       "      <th></th>\n",
       "      <th>user_id</th>\n",
       "      <th>gender</th>\n",
       "      <th>age</th>\n",
       "      <th>occupation</th>\n",
       "      <th>zip</th>\n",
       "    </tr>\n",
       "  </thead>\n",
       "  <tbody>\n",
       "    <tr>\n",
       "      <th>0</th>\n",
       "      <td>1</td>\n",
       "      <td>F</td>\n",
       "      <td>1</td>\n",
       "      <td>10</td>\n",
       "      <td>48067</td>\n",
       "    </tr>\n",
       "    <tr>\n",
       "      <th>1</th>\n",
       "      <td>2</td>\n",
       "      <td>M</td>\n",
       "      <td>56</td>\n",
       "      <td>16</td>\n",
       "      <td>70072</td>\n",
       "    </tr>\n",
       "    <tr>\n",
       "      <th>2</th>\n",
       "      <td>3</td>\n",
       "      <td>M</td>\n",
       "      <td>25</td>\n",
       "      <td>15</td>\n",
       "      <td>55117</td>\n",
       "    </tr>\n",
       "    <tr>\n",
       "      <th>3</th>\n",
       "      <td>4</td>\n",
       "      <td>M</td>\n",
       "      <td>45</td>\n",
       "      <td>7</td>\n",
       "      <td>02460</td>\n",
       "    </tr>\n",
       "    <tr>\n",
       "      <th>4</th>\n",
       "      <td>5</td>\n",
       "      <td>M</td>\n",
       "      <td>25</td>\n",
       "      <td>20</td>\n",
       "      <td>55455</td>\n",
       "    </tr>\n",
       "  </tbody>\n",
       "</table>\n",
       "</div>"
      ],
      "text/plain": [
       "   user_id gender  age  occupation    zip\n",
       "0        1      F    1          10  48067\n",
       "1        2      M   56          16  70072\n",
       "2        3      M   25          15  55117\n",
       "3        4      M   45           7  02460\n",
       "4        5      M   25          20  55455"
      ]
     },
     "execution_count": 47,
     "metadata": {},
     "output_type": "execute_result"
    }
   ],
   "source": [
    "users.head()"
   ]
  },
  {
   "cell_type": "code",
   "execution_count": 48,
   "metadata": {
    "colab": {
     "base_uri": "https://localhost:8080/",
     "height": 206
    },
    "id": "7PgHj3BemyE3",
    "outputId": "88ee86d9-31b1-44f2-f15d-aa40307e9889",
    "scrolled": true
   },
   "outputs": [
    {
     "data": {
      "text/html": [
       "<div>\n",
       "<style scoped>\n",
       "    .dataframe tbody tr th:only-of-type {\n",
       "        vertical-align: middle;\n",
       "    }\n",
       "\n",
       "    .dataframe tbody tr th {\n",
       "        vertical-align: top;\n",
       "    }\n",
       "\n",
       "    .dataframe thead th {\n",
       "        text-align: right;\n",
       "    }\n",
       "</style>\n",
       "<table border=\"1\" class=\"dataframe\">\n",
       "  <thead>\n",
       "    <tr style=\"text-align: right;\">\n",
       "      <th></th>\n",
       "      <th>movie_id</th>\n",
       "      <th>title</th>\n",
       "      <th>genres</th>\n",
       "    </tr>\n",
       "  </thead>\n",
       "  <tbody>\n",
       "    <tr>\n",
       "      <th>0</th>\n",
       "      <td>1</td>\n",
       "      <td>Toy Story (1995)</td>\n",
       "      <td>Animation|Children's|Comedy</td>\n",
       "    </tr>\n",
       "    <tr>\n",
       "      <th>1</th>\n",
       "      <td>2</td>\n",
       "      <td>Jumanji (1995)</td>\n",
       "      <td>Adventure|Children's|Fantasy</td>\n",
       "    </tr>\n",
       "    <tr>\n",
       "      <th>2</th>\n",
       "      <td>3</td>\n",
       "      <td>Grumpier Old Men (1995)</td>\n",
       "      <td>Comedy|Romance</td>\n",
       "    </tr>\n",
       "    <tr>\n",
       "      <th>3</th>\n",
       "      <td>4</td>\n",
       "      <td>Waiting to Exhale (1995)</td>\n",
       "      <td>Comedy|Drama</td>\n",
       "    </tr>\n",
       "    <tr>\n",
       "      <th>4</th>\n",
       "      <td>5</td>\n",
       "      <td>Father of the Bride Part II (1995)</td>\n",
       "      <td>Comedy</td>\n",
       "    </tr>\n",
       "  </tbody>\n",
       "</table>\n",
       "</div>"
      ],
      "text/plain": [
       "   movie_id                               title                        genres\n",
       "0         1                    Toy Story (1995)   Animation|Children's|Comedy\n",
       "1         2                      Jumanji (1995)  Adventure|Children's|Fantasy\n",
       "2         3             Grumpier Old Men (1995)                Comedy|Romance\n",
       "3         4            Waiting to Exhale (1995)                  Comedy|Drama\n",
       "4         5  Father of the Bride Part II (1995)                        Comedy"
      ]
     },
     "execution_count": 48,
     "metadata": {},
     "output_type": "execute_result"
    }
   ],
   "source": [
    "movies.head()"
   ]
  },
  {
   "cell_type": "code",
   "execution_count": 49,
   "metadata": {},
   "outputs": [
    {
     "data": {
      "text/html": [
       "<div>\n",
       "<style scoped>\n",
       "    .dataframe tbody tr th:only-of-type {\n",
       "        vertical-align: middle;\n",
       "    }\n",
       "\n",
       "    .dataframe tbody tr th {\n",
       "        vertical-align: top;\n",
       "    }\n",
       "\n",
       "    .dataframe thead th {\n",
       "        text-align: right;\n",
       "    }\n",
       "</style>\n",
       "<table border=\"1\" class=\"dataframe\">\n",
       "  <thead>\n",
       "    <tr style=\"text-align: right;\">\n",
       "      <th></th>\n",
       "      <th>user_id</th>\n",
       "      <th>movie_id</th>\n",
       "      <th>rating</th>\n",
       "      <th>timestamp</th>\n",
       "    </tr>\n",
       "  </thead>\n",
       "  <tbody>\n",
       "    <tr>\n",
       "      <th>0</th>\n",
       "      <td>1</td>\n",
       "      <td>1193</td>\n",
       "      <td>5</td>\n",
       "      <td>978300760</td>\n",
       "    </tr>\n",
       "    <tr>\n",
       "      <th>1</th>\n",
       "      <td>1</td>\n",
       "      <td>661</td>\n",
       "      <td>3</td>\n",
       "      <td>978302109</td>\n",
       "    </tr>\n",
       "    <tr>\n",
       "      <th>2</th>\n",
       "      <td>1</td>\n",
       "      <td>914</td>\n",
       "      <td>3</td>\n",
       "      <td>978301968</td>\n",
       "    </tr>\n",
       "    <tr>\n",
       "      <th>3</th>\n",
       "      <td>1</td>\n",
       "      <td>3408</td>\n",
       "      <td>4</td>\n",
       "      <td>978300275</td>\n",
       "    </tr>\n",
       "    <tr>\n",
       "      <th>4</th>\n",
       "      <td>1</td>\n",
       "      <td>2355</td>\n",
       "      <td>5</td>\n",
       "      <td>978824291</td>\n",
       "    </tr>\n",
       "  </tbody>\n",
       "</table>\n",
       "</div>"
      ],
      "text/plain": [
       "   user_id  movie_id  rating  timestamp\n",
       "0        1      1193       5  978300760\n",
       "1        1       661       3  978302109\n",
       "2        1       914       3  978301968\n",
       "3        1      3408       4  978300275\n",
       "4        1      2355       5  978824291"
      ]
     },
     "execution_count": 49,
     "metadata": {},
     "output_type": "execute_result"
    }
   ],
   "source": [
    "ratings.head()"
   ]
  },
  {
   "cell_type": "markdown",
   "metadata": {
    "id": "LhUftLha70tX"
   },
   "source": [
    "**Load cornac models**"
   ]
  },
  {
   "cell_type": "code",
   "execution_count": null,
   "metadata": {
    "colab": {
     "base_uri": "https://localhost:8080/",
     "height": 103,
     "referenced_widgets": [
      "43f6630de3a0483dbfb517f1c746cc14",
      "3e1aeb93805347869b9a55eb65d53883",
      "6ea91058de194d21b2927b2360dd72de",
      "1badfba111d44863b24982e00106e802",
      "fe8a853789c348e588b2d6454f0160c1",
      "a0bf2a7acc2543148d556a5f3bd0bfb2",
      "94fbc27e7fb642e7a6e963cbeb99c530",
      "c64cf56dbc744fd6944cd8175aa56505",
      "2eef9b2406f648a491ac3d7b4e59976b",
      "c33844acf7dd475488d024bc664c4670",
      "ee542ca2713e41efbd0bacf82cf6deb3"
     ]
    },
    "id": "726Nnw4HR3BZ",
    "outputId": "928283f3-c89e-4cab-fec5-bf3999b52f00"
   },
   "outputs": [
    {
     "name": "stdout",
     "output_type": "stream",
     "text": [
      "Data from http://files.grouplens.org/datasets/movielens/ml-100k/u.data\n",
      "will be cached into /root/.cornac/ml-100k/u.data\n"
     ]
    },
    {
     "data": {
      "application/vnd.jupyter.widget-view+json": {
       "model_id": "43f6630de3a0483dbfb517f1c746cc14",
       "version_major": 2,
       "version_minor": 0
      },
      "text/plain": [
       "0.00B [00:00, ?B/s]"
      ]
     },
     "metadata": {},
     "output_type": "display_data"
    },
    {
     "name": "stdout",
     "output_type": "stream",
     "text": [
      "File cached!\n"
     ]
    }
   ],
   "source": [
    "import cornac\n",
    "from cornac.eval_methods import RatioSplit\n",
    "from cornac.models import MostPop, UserKNN, ItemKNN, MF, PMF, BPR, NeuMF, WMF, HPF, CVAE, VAECF, NMF\n",
    "from cornac.metrics import MAE, RMSE, Precision, Recall, NDCG, AUC, MAP\n",
    "\n",
    "ml_100k = cornac.datasets.movielens.load_feedback(variant=\"100K\")\n",
    "mf_model = MF(k=10, max_iter=25, learning_rate=0.01, lambda_reg=0.02, use_bias=True, seed=123)\n",
    "vaecf_model = VAECF(k=10, autoencoder_structure=[20], act_fn=\"tanh\", likelihood=\"mult\",\n",
    "                    n_epochs=100, batch_size=100, learning_rate=0.001,\n",
    "                    beta=1.0, seed=123, use_gpu=True, verbose=True)\n",
    "# convmf = cornac.models.ConvMF(n_epochs=5, verbose=True, seed=123)\n",
    "hpf = cornac.models.HPF(k=5,seed=123)"
   ]
  },
  {
   "cell_type": "markdown",
   "metadata": {
    "id": "qQjUwR2s74Bl"
   },
   "source": [
    "**Fit models on movieLens dataset**"
   ]
  },
  {
   "cell_type": "code",
   "execution_count": null,
   "metadata": {
    "colab": {
     "base_uri": "https://localhost:8080/",
     "height": 103,
     "referenced_widgets": [
      "fbfe98656f424dbbad024cb5792ac31b",
      "5eb86f5473f949feafe36c31207a1e09",
      "c4b565f7a4af4565af0af9a03be42423",
      "255ddfc0eb16489bae5c9b9e006fa06d",
      "30f36d046d5349faab24c6ef867632b3",
      "6b29fc0fdc25485594d123e49122e9c2",
      "a3146d5ff2e04c15bcb3545c492471bd",
      "0fc11ffd158b4238be1f582790c8bb90",
      "db0effbcf1d742e5839d654ee2744b88",
      "c80d9cf5400344ef92c114b441db99b8",
      "1fea6c06c40f4e40b81cc14436576e42"
     ]
    },
    "id": "tTMG4BQCXo1a",
    "outputId": "aef6bc86-d61f-45f1-e3ba-b46e0f408419"
   },
   "outputs": [
    {
     "data": {
      "application/vnd.jupyter.widget-view+json": {
       "model_id": "fbfe98656f424dbbad024cb5792ac31b",
       "version_major": 2,
       "version_minor": 0
      },
      "text/plain": [
       "  0%|          | 0/100 [00:00<?, ?it/s]"
      ]
     },
     "metadata": {},
     "output_type": "display_data"
    },
    {
     "name": "stdout",
     "output_type": "stream",
     "text": [
      "Learning...\n",
      "Learning completed!\n"
     ]
    },
    {
     "data": {
      "text/plain": [
       "<cornac.models.hpf.recom_hpf.HPF at 0x7f99589a92b0>"
      ]
     },
     "execution_count": 10,
     "metadata": {},
     "output_type": "execute_result"
    }
   ],
   "source": [
    "mf_model.fit(cornac.data.Dataset.from_uir(ml_100k))\n",
    "vaecf_model.fit(cornac.data.Dataset.from_uir(ml_100k))\n",
    "hpf.fit(cornac.data.Dataset.from_uir(ml_100k))"
   ]
  },
  {
   "cell_type": "markdown",
   "metadata": {
    "id": "1SFzK5QEvc43"
   },
   "source": [
    "**Set Default Model to VAECF**"
   ]
  },
  {
   "cell_type": "code",
   "execution_count": null,
   "metadata": {
    "id": "KwQTArwhvcUA"
   },
   "outputs": [],
   "source": [
    "REC_MODEL = hpf"
   ]
  },
  {
   "cell_type": "markdown",
   "metadata": {
    "id": "PSSkjDt3ZDoV"
   },
   "source": [
    "**Add 10 most rated items of each user to users dataframe**"
   ]
  },
  {
   "cell_type": "code",
   "execution_count": null,
   "metadata": {
    "id": "2rIaaKlZfolc"
   },
   "outputs": [],
   "source": [
    "def get_top_rank(model, user_idx):\n",
    "  return sorted(list(enumerate(list(model.score(user_idx)))), key=lambda entry: entry[1])[-10:]"
   ]
  },
  {
   "cell_type": "code",
   "execution_count": null,
   "metadata": {
    "id": "ESjUR-iHsZyL"
   },
   "outputs": [],
   "source": [
    "from collections import OrderedDict\n",
    "\n",
    "top_ranks = OrderedDict()\n",
    "for user_idx in range(len(users)):\n",
    "  top_ranks[user_idx] = get_top_rank(model=REC_MODEL,user_idx=user_idx)"
   ]
  },
  {
   "cell_type": "code",
   "execution_count": null,
   "metadata": {
    "id": "RPRnrFXUuE8e"
   },
   "outputs": [],
   "source": [
    "for i in range(10):\n",
    "  top_rank_i = [top_ranks[i] for user_idx,top_ranks in top_ranks.items()]\n",
    "  users[f'top_item_rec_{10-i}'] = top_rank_i"
   ]
  },
  {
   "cell_type": "code",
   "execution_count": null,
   "metadata": {
    "colab": {
     "base_uri": "https://localhost:8080/",
     "height": 357
    },
    "id": "2_jh7_XbvScO",
    "outputId": "be5afef9-3197-465b-b9c2-21b8df426562"
   },
   "outputs": [
    {
     "data": {
      "text/html": [
       "\n",
       "  <div id=\"df-b4ee1285-29c4-4146-8277-942453a488cb\">\n",
       "    <div class=\"colab-df-container\">\n",
       "      <div>\n",
       "<style scoped>\n",
       "    .dataframe tbody tr th:only-of-type {\n",
       "        vertical-align: middle;\n",
       "    }\n",
       "\n",
       "    .dataframe tbody tr th {\n",
       "        vertical-align: top;\n",
       "    }\n",
       "\n",
       "    .dataframe thead th {\n",
       "        text-align: right;\n",
       "    }\n",
       "</style>\n",
       "<table border=\"1\" class=\"dataframe\">\n",
       "  <thead>\n",
       "    <tr style=\"text-align: right;\">\n",
       "      <th></th>\n",
       "      <th>user_id</th>\n",
       "      <th>age</th>\n",
       "      <th>sex</th>\n",
       "      <th>occupation</th>\n",
       "      <th>zip_code</th>\n",
       "      <th>top_item_rec_10</th>\n",
       "      <th>top_item_rec_9</th>\n",
       "      <th>top_item_rec_8</th>\n",
       "      <th>top_item_rec_7</th>\n",
       "      <th>top_item_rec_6</th>\n",
       "      <th>top_item_rec_5</th>\n",
       "      <th>top_item_rec_4</th>\n",
       "      <th>top_item_rec_3</th>\n",
       "      <th>top_item_rec_2</th>\n",
       "      <th>top_item_rec_1</th>\n",
       "    </tr>\n",
       "  </thead>\n",
       "  <tbody>\n",
       "    <tr>\n",
       "      <th>0</th>\n",
       "      <td>1</td>\n",
       "      <td>24</td>\n",
       "      <td>M</td>\n",
       "      <td>technician</td>\n",
       "      <td>85711</td>\n",
       "      <td>(157, 0.7723271263304753)</td>\n",
       "      <td>(140, 0.8083460131843717)</td>\n",
       "      <td>(289, 0.8229038569562933)</td>\n",
       "      <td>(403, 0.8492584991192819)</td>\n",
       "      <td>(189, 0.8784724637141467)</td>\n",
       "      <td>(24, 0.9557791230818324)</td>\n",
       "      <td>(77, 0.9651263988003596)</td>\n",
       "      <td>(52, 0.9972043688387865)</td>\n",
       "      <td>(49, 1.087835370472427)</td>\n",
       "      <td>(357, 1.23732700543932)</td>\n",
       "    </tr>\n",
       "    <tr>\n",
       "      <th>1</th>\n",
       "      <td>2</td>\n",
       "      <td>53</td>\n",
       "      <td>F</td>\n",
       "      <td>other</td>\n",
       "      <td>94043</td>\n",
       "      <td>(24, 1.734229293430314)</td>\n",
       "      <td>(403, 1.8854881320126007)</td>\n",
       "      <td>(52, 1.9566243149946847)</td>\n",
       "      <td>(289, 2.0108796446376007)</td>\n",
       "      <td>(357, 2.059746434135098)</td>\n",
       "      <td>(60, 2.202347458984853)</td>\n",
       "      <td>(95, 2.304751459943746)</td>\n",
       "      <td>(719, 2.325810598980851)</td>\n",
       "      <td>(652, 2.4027525621185557)</td>\n",
       "      <td>(157, 2.567396864327809)</td>\n",
       "    </tr>\n",
       "    <tr>\n",
       "      <th>2</th>\n",
       "      <td>3</td>\n",
       "      <td>23</td>\n",
       "      <td>M</td>\n",
       "      <td>writer</td>\n",
       "      <td>32067</td>\n",
       "      <td>(201, 2.348181818848246)</td>\n",
       "      <td>(408, 2.3683929522663227)</td>\n",
       "      <td>(52, 2.4013931428571524)</td>\n",
       "      <td>(156, 2.451994615216075)</td>\n",
       "      <td>(102, 2.4581523459491534)</td>\n",
       "      <td>(357, 2.479380701772362)</td>\n",
       "      <td>(231, 2.566556285976035)</td>\n",
       "      <td>(347, 2.654817646168223)</td>\n",
       "      <td>(161, 2.7931368912319248)</td>\n",
       "      <td>(101, 2.8234194961046883)</td>\n",
       "    </tr>\n",
       "    <tr>\n",
       "      <th>3</th>\n",
       "      <td>4</td>\n",
       "      <td>24</td>\n",
       "      <td>M</td>\n",
       "      <td>technician</td>\n",
       "      <td>43537</td>\n",
       "      <td>(403, 4.385194023508565)</td>\n",
       "      <td>(24, 4.782620276071388)</td>\n",
       "      <td>(161, 4.850154219111494)</td>\n",
       "      <td>(31, 4.915006350252232)</td>\n",
       "      <td>(209, 4.938918582294495)</td>\n",
       "      <td>(49, 5.161245839690811)</td>\n",
       "      <td>(101, 5.204847192798675)</td>\n",
       "      <td>(216, 5.457915294228182)</td>\n",
       "      <td>(52, 5.724455259087394)</td>\n",
       "      <td>(357, 6.74437225820977)</td>\n",
       "    </tr>\n",
       "    <tr>\n",
       "      <th>4</th>\n",
       "      <td>5</td>\n",
       "      <td>33</td>\n",
       "      <td>F</td>\n",
       "      <td>other</td>\n",
       "      <td>15213</td>\n",
       "      <td>(280, 1.332012758696001)</td>\n",
       "      <td>(130, 1.3827808208424306)</td>\n",
       "      <td>(491, 1.3922983194069607)</td>\n",
       "      <td>(60, 1.4094121070659302)</td>\n",
       "      <td>(98, 1.4256553927622204)</td>\n",
       "      <td>(289, 1.5773244017850399)</td>\n",
       "      <td>(157, 1.702531196701317)</td>\n",
       "      <td>(1, 1.7050668359749828)</td>\n",
       "      <td>(652, 1.8711352302869544)</td>\n",
       "      <td>(719, 1.9188250646442773)</td>\n",
       "    </tr>\n",
       "  </tbody>\n",
       "</table>\n",
       "</div>\n",
       "      <button class=\"colab-df-convert\" onclick=\"convertToInteractive('df-b4ee1285-29c4-4146-8277-942453a488cb')\"\n",
       "              title=\"Convert this dataframe to an interactive table.\"\n",
       "              style=\"display:none;\">\n",
       "        \n",
       "  <svg xmlns=\"http://www.w3.org/2000/svg\" height=\"24px\"viewBox=\"0 0 24 24\"\n",
       "       width=\"24px\">\n",
       "    <path d=\"M0 0h24v24H0V0z\" fill=\"none\"/>\n",
       "    <path d=\"M18.56 5.44l.94 2.06.94-2.06 2.06-.94-2.06-.94-.94-2.06-.94 2.06-2.06.94zm-11 1L8.5 8.5l.94-2.06 2.06-.94-2.06-.94L8.5 2.5l-.94 2.06-2.06.94zm10 10l.94 2.06.94-2.06 2.06-.94-2.06-.94-.94-2.06-.94 2.06-2.06.94z\"/><path d=\"M17.41 7.96l-1.37-1.37c-.4-.4-.92-.59-1.43-.59-.52 0-1.04.2-1.43.59L10.3 9.45l-7.72 7.72c-.78.78-.78 2.05 0 2.83L4 21.41c.39.39.9.59 1.41.59.51 0 1.02-.2 1.41-.59l7.78-7.78 2.81-2.81c.8-.78.8-2.07 0-2.86zM5.41 20L4 18.59l7.72-7.72 1.47 1.35L5.41 20z\"/>\n",
       "  </svg>\n",
       "      </button>\n",
       "      \n",
       "  <style>\n",
       "    .colab-df-container {\n",
       "      display:flex;\n",
       "      flex-wrap:wrap;\n",
       "      gap: 12px;\n",
       "    }\n",
       "\n",
       "    .colab-df-convert {\n",
       "      background-color: #E8F0FE;\n",
       "      border: none;\n",
       "      border-radius: 50%;\n",
       "      cursor: pointer;\n",
       "      display: none;\n",
       "      fill: #1967D2;\n",
       "      height: 32px;\n",
       "      padding: 0 0 0 0;\n",
       "      width: 32px;\n",
       "    }\n",
       "\n",
       "    .colab-df-convert:hover {\n",
       "      background-color: #E2EBFA;\n",
       "      box-shadow: 0px 1px 2px rgba(60, 64, 67, 0.3), 0px 1px 3px 1px rgba(60, 64, 67, 0.15);\n",
       "      fill: #174EA6;\n",
       "    }\n",
       "\n",
       "    [theme=dark] .colab-df-convert {\n",
       "      background-color: #3B4455;\n",
       "      fill: #D2E3FC;\n",
       "    }\n",
       "\n",
       "    [theme=dark] .colab-df-convert:hover {\n",
       "      background-color: #434B5C;\n",
       "      box-shadow: 0px 1px 3px 1px rgba(0, 0, 0, 0.15);\n",
       "      filter: drop-shadow(0px 1px 2px rgba(0, 0, 0, 0.3));\n",
       "      fill: #FFFFFF;\n",
       "    }\n",
       "  </style>\n",
       "\n",
       "      <script>\n",
       "        const buttonEl =\n",
       "          document.querySelector('#df-b4ee1285-29c4-4146-8277-942453a488cb button.colab-df-convert');\n",
       "        buttonEl.style.display =\n",
       "          google.colab.kernel.accessAllowed ? 'block' : 'none';\n",
       "\n",
       "        async function convertToInteractive(key) {\n",
       "          const element = document.querySelector('#df-b4ee1285-29c4-4146-8277-942453a488cb');\n",
       "          const dataTable =\n",
       "            await google.colab.kernel.invokeFunction('convertToInteractive',\n",
       "                                                     [key], {});\n",
       "          if (!dataTable) return;\n",
       "\n",
       "          const docLinkHtml = 'Like what you see? Visit the ' +\n",
       "            '<a target=\"_blank\" href=https://colab.research.google.com/notebooks/data_table.ipynb>data table notebook</a>'\n",
       "            + ' to learn more about interactive tables.';\n",
       "          element.innerHTML = '';\n",
       "          dataTable['output_type'] = 'display_data';\n",
       "          await google.colab.output.renderOutput(dataTable, element);\n",
       "          const docLink = document.createElement('div');\n",
       "          docLink.innerHTML = docLinkHtml;\n",
       "          element.appendChild(docLink);\n",
       "        }\n",
       "      </script>\n",
       "    </div>\n",
       "  </div>\n",
       "  "
      ],
      "text/plain": [
       "   user_id  age sex  occupation zip_code            top_item_rec_10  \\\n",
       "0        1   24   M  technician    85711  (157, 0.7723271263304753)   \n",
       "1        2   53   F       other    94043    (24, 1.734229293430314)   \n",
       "2        3   23   M      writer    32067   (201, 2.348181818848246)   \n",
       "3        4   24   M  technician    43537   (403, 4.385194023508565)   \n",
       "4        5   33   F       other    15213   (280, 1.332012758696001)   \n",
       "\n",
       "              top_item_rec_9             top_item_rec_8  \\\n",
       "0  (140, 0.8083460131843717)  (289, 0.8229038569562933)   \n",
       "1  (403, 1.8854881320126007)   (52, 1.9566243149946847)   \n",
       "2  (408, 2.3683929522663227)   (52, 2.4013931428571524)   \n",
       "3    (24, 4.782620276071388)   (161, 4.850154219111494)   \n",
       "4  (130, 1.3827808208424306)  (491, 1.3922983194069607)   \n",
       "\n",
       "              top_item_rec_7             top_item_rec_6  \\\n",
       "0  (403, 0.8492584991192819)  (189, 0.8784724637141467)   \n",
       "1  (289, 2.0108796446376007)   (357, 2.059746434135098)   \n",
       "2   (156, 2.451994615216075)  (102, 2.4581523459491534)   \n",
       "3    (31, 4.915006350252232)   (209, 4.938918582294495)   \n",
       "4   (60, 1.4094121070659302)   (98, 1.4256553927622204)   \n",
       "\n",
       "              top_item_rec_5            top_item_rec_4  \\\n",
       "0   (24, 0.9557791230818324)  (77, 0.9651263988003596)   \n",
       "1    (60, 2.202347458984853)   (95, 2.304751459943746)   \n",
       "2   (357, 2.479380701772362)  (231, 2.566556285976035)   \n",
       "3    (49, 5.161245839690811)  (101, 5.204847192798675)   \n",
       "4  (289, 1.5773244017850399)  (157, 1.702531196701317)   \n",
       "\n",
       "             top_item_rec_3             top_item_rec_2  \\\n",
       "0  (52, 0.9972043688387865)    (49, 1.087835370472427)   \n",
       "1  (719, 2.325810598980851)  (652, 2.4027525621185557)   \n",
       "2  (347, 2.654817646168223)  (161, 2.7931368912319248)   \n",
       "3  (216, 5.457915294228182)    (52, 5.724455259087394)   \n",
       "4   (1, 1.7050668359749828)  (652, 1.8711352302869544)   \n",
       "\n",
       "              top_item_rec_1  \n",
       "0    (357, 1.23732700543932)  \n",
       "1   (157, 2.567396864327809)  \n",
       "2  (101, 2.8234194961046883)  \n",
       "3    (357, 6.74437225820977)  \n",
       "4  (719, 1.9188250646442773)  "
      ]
     },
     "execution_count": 15,
     "metadata": {},
     "output_type": "execute_result"
    }
   ],
   "source": [
    "users.head()"
   ]
  },
  {
   "cell_type": "markdown",
   "metadata": {
    "id": "Yf1huKqWbUa0"
   },
   "source": [
    "**MAE**"
   ]
  },
  {
   "cell_type": "code",
   "execution_count": null,
   "metadata": {
    "colab": {
     "base_uri": "https://localhost:8080/",
     "height": 206
    },
    "id": "h2BctqVDR1Ga",
    "outputId": "fc505afd-095b-4636-e9cc-f3adacbf92bc"
   },
   "outputs": [
    {
     "data": {
      "text/html": [
       "\n",
       "  <div id=\"df-a42d1b40-6ae3-453f-b91c-da44e863d5bf\">\n",
       "    <div class=\"colab-df-container\">\n",
       "      <div>\n",
       "<style scoped>\n",
       "    .dataframe tbody tr th:only-of-type {\n",
       "        vertical-align: middle;\n",
       "    }\n",
       "\n",
       "    .dataframe tbody tr th {\n",
       "        vertical-align: top;\n",
       "    }\n",
       "\n",
       "    .dataframe thead th {\n",
       "        text-align: right;\n",
       "    }\n",
       "</style>\n",
       "<table border=\"1\" class=\"dataframe\">\n",
       "  <thead>\n",
       "    <tr style=\"text-align: right;\">\n",
       "      <th></th>\n",
       "      <th>user_id</th>\n",
       "      <th>movie_id</th>\n",
       "      <th>rating</th>\n",
       "      <th>unix_timestamp</th>\n",
       "    </tr>\n",
       "  </thead>\n",
       "  <tbody>\n",
       "    <tr>\n",
       "      <th>0</th>\n",
       "      <td>196</td>\n",
       "      <td>242</td>\n",
       "      <td>3</td>\n",
       "      <td>881250949</td>\n",
       "    </tr>\n",
       "    <tr>\n",
       "      <th>1</th>\n",
       "      <td>186</td>\n",
       "      <td>302</td>\n",
       "      <td>3</td>\n",
       "      <td>891717742</td>\n",
       "    </tr>\n",
       "    <tr>\n",
       "      <th>2</th>\n",
       "      <td>22</td>\n",
       "      <td>377</td>\n",
       "      <td>1</td>\n",
       "      <td>878887116</td>\n",
       "    </tr>\n",
       "    <tr>\n",
       "      <th>3</th>\n",
       "      <td>244</td>\n",
       "      <td>51</td>\n",
       "      <td>2</td>\n",
       "      <td>880606923</td>\n",
       "    </tr>\n",
       "    <tr>\n",
       "      <th>4</th>\n",
       "      <td>166</td>\n",
       "      <td>346</td>\n",
       "      <td>1</td>\n",
       "      <td>886397596</td>\n",
       "    </tr>\n",
       "  </tbody>\n",
       "</table>\n",
       "</div>\n",
       "      <button class=\"colab-df-convert\" onclick=\"convertToInteractive('df-a42d1b40-6ae3-453f-b91c-da44e863d5bf')\"\n",
       "              title=\"Convert this dataframe to an interactive table.\"\n",
       "              style=\"display:none;\">\n",
       "        \n",
       "  <svg xmlns=\"http://www.w3.org/2000/svg\" height=\"24px\"viewBox=\"0 0 24 24\"\n",
       "       width=\"24px\">\n",
       "    <path d=\"M0 0h24v24H0V0z\" fill=\"none\"/>\n",
       "    <path d=\"M18.56 5.44l.94 2.06.94-2.06 2.06-.94-2.06-.94-.94-2.06-.94 2.06-2.06.94zm-11 1L8.5 8.5l.94-2.06 2.06-.94-2.06-.94L8.5 2.5l-.94 2.06-2.06.94zm10 10l.94 2.06.94-2.06 2.06-.94-2.06-.94-.94-2.06-.94 2.06-2.06.94z\"/><path d=\"M17.41 7.96l-1.37-1.37c-.4-.4-.92-.59-1.43-.59-.52 0-1.04.2-1.43.59L10.3 9.45l-7.72 7.72c-.78.78-.78 2.05 0 2.83L4 21.41c.39.39.9.59 1.41.59.51 0 1.02-.2 1.41-.59l7.78-7.78 2.81-2.81c.8-.78.8-2.07 0-2.86zM5.41 20L4 18.59l7.72-7.72 1.47 1.35L5.41 20z\"/>\n",
       "  </svg>\n",
       "      </button>\n",
       "      \n",
       "  <style>\n",
       "    .colab-df-container {\n",
       "      display:flex;\n",
       "      flex-wrap:wrap;\n",
       "      gap: 12px;\n",
       "    }\n",
       "\n",
       "    .colab-df-convert {\n",
       "      background-color: #E8F0FE;\n",
       "      border: none;\n",
       "      border-radius: 50%;\n",
       "      cursor: pointer;\n",
       "      display: none;\n",
       "      fill: #1967D2;\n",
       "      height: 32px;\n",
       "      padding: 0 0 0 0;\n",
       "      width: 32px;\n",
       "    }\n",
       "\n",
       "    .colab-df-convert:hover {\n",
       "      background-color: #E2EBFA;\n",
       "      box-shadow: 0px 1px 2px rgba(60, 64, 67, 0.3), 0px 1px 3px 1px rgba(60, 64, 67, 0.15);\n",
       "      fill: #174EA6;\n",
       "    }\n",
       "\n",
       "    [theme=dark] .colab-df-convert {\n",
       "      background-color: #3B4455;\n",
       "      fill: #D2E3FC;\n",
       "    }\n",
       "\n",
       "    [theme=dark] .colab-df-convert:hover {\n",
       "      background-color: #434B5C;\n",
       "      box-shadow: 0px 1px 3px 1px rgba(0, 0, 0, 0.15);\n",
       "      filter: drop-shadow(0px 1px 2px rgba(0, 0, 0, 0.3));\n",
       "      fill: #FFFFFF;\n",
       "    }\n",
       "  </style>\n",
       "\n",
       "      <script>\n",
       "        const buttonEl =\n",
       "          document.querySelector('#df-a42d1b40-6ae3-453f-b91c-da44e863d5bf button.colab-df-convert');\n",
       "        buttonEl.style.display =\n",
       "          google.colab.kernel.accessAllowed ? 'block' : 'none';\n",
       "\n",
       "        async function convertToInteractive(key) {\n",
       "          const element = document.querySelector('#df-a42d1b40-6ae3-453f-b91c-da44e863d5bf');\n",
       "          const dataTable =\n",
       "            await google.colab.kernel.invokeFunction('convertToInteractive',\n",
       "                                                     [key], {});\n",
       "          if (!dataTable) return;\n",
       "\n",
       "          const docLinkHtml = 'Like what you see? Visit the ' +\n",
       "            '<a target=\"_blank\" href=https://colab.research.google.com/notebooks/data_table.ipynb>data table notebook</a>'\n",
       "            + ' to learn more about interactive tables.';\n",
       "          element.innerHTML = '';\n",
       "          dataTable['output_type'] = 'display_data';\n",
       "          await google.colab.output.renderOutput(dataTable, element);\n",
       "          const docLink = document.createElement('div');\n",
       "          docLink.innerHTML = docLinkHtml;\n",
       "          element.appendChild(docLink);\n",
       "        }\n",
       "      </script>\n",
       "    </div>\n",
       "  </div>\n",
       "  "
      ],
      "text/plain": [
       "   user_id  movie_id  rating  unix_timestamp\n",
       "0      196       242       3       881250949\n",
       "1      186       302       3       891717742\n",
       "2       22       377       1       878887116\n",
       "3      244        51       2       880606923\n",
       "4      166       346       1       886397596"
      ]
     },
     "execution_count": 16,
     "metadata": {},
     "output_type": "execute_result"
    }
   ],
   "source": [
    "ratings.head()"
   ]
  },
  {
   "cell_type": "code",
   "execution_count": null,
   "metadata": {
    "id": "1Mrpc3oKNfkp"
   },
   "outputs": [],
   "source": [
    "rating_groups = ratings.groupby(by=['user_id'])"
   ]
  },
  {
   "cell_type": "code",
   "execution_count": null,
   "metadata": {
    "id": "9hF_FqiXVY6b"
   },
   "outputs": [],
   "source": [
    "def get_rating_dict(user_id):\n",
    "  user_ratings = rating_groups.get_group(user_id)\n",
    "  return dict(list(zip(user_ratings['movie_id'] , user_ratings['rating'])))"
   ]
  },
  {
   "cell_type": "code",
   "execution_count": null,
   "metadata": {
    "id": "vMj4MSa5tiZA"
   },
   "outputs": [],
   "source": [
    "def get_item_to_rec_score_mapping(rec_model , user_id):\n",
    "  items, scores = rec_model.rank(user_id)\n",
    "  return dict(list(zip(items, scores)))"
   ]
  },
  {
   "cell_type": "code",
   "execution_count": null,
   "metadata": {
    "id": "0cFywZ6pFRX5"
   },
   "outputs": [],
   "source": [
    "def MAE(rec_model , user_id):\n",
    "  item_to_rec_score_mapping = get_item_to_rec_score_mapping(rec_model , user_id)\n",
    "  rating_dict = get_rating_dict(user_id)\n",
    "  return sum([abs(item_to_rec_score_mapping[item] - rating) for item,rating in rating_dict.items() if item in item_to_rec_score_mapping]) / len(rating_dict)"
   ]
  },
  {
   "cell_type": "code",
   "execution_count": null,
   "metadata": {
    "id": "K4qHoMsca9tH"
   },
   "outputs": [],
   "source": [
    "mae_list = []\n",
    "for user_id in users['user_id']:\n",
    "  mae = None\n",
    "  try:\n",
    "    mae = MAE(REC_MODEL, user_id)\n",
    "  except Exception:\n",
    "    pass\n",
    "  mae_list.append(mae)"
   ]
  },
  {
   "cell_type": "code",
   "execution_count": null,
   "metadata": {
    "id": "-cAYeZzWb0do"
   },
   "outputs": [],
   "source": [
    "users['MAE'] = mae_list"
   ]
  },
  {
   "cell_type": "code",
   "execution_count": null,
   "metadata": {
    "colab": {
     "base_uri": "https://localhost:8080/",
     "height": 357
    },
    "id": "uCKe6xrKo4kz",
    "outputId": "ffb4ea48-3636-4922-b9bb-e9c3c95049b2"
   },
   "outputs": [
    {
     "data": {
      "text/html": [
       "\n",
       "  <div id=\"df-1e5d43b0-a231-4a3d-97aa-516f9edc0dad\">\n",
       "    <div class=\"colab-df-container\">\n",
       "      <div>\n",
       "<style scoped>\n",
       "    .dataframe tbody tr th:only-of-type {\n",
       "        vertical-align: middle;\n",
       "    }\n",
       "\n",
       "    .dataframe tbody tr th {\n",
       "        vertical-align: top;\n",
       "    }\n",
       "\n",
       "    .dataframe thead th {\n",
       "        text-align: right;\n",
       "    }\n",
       "</style>\n",
       "<table border=\"1\" class=\"dataframe\">\n",
       "  <thead>\n",
       "    <tr style=\"text-align: right;\">\n",
       "      <th></th>\n",
       "      <th>user_id</th>\n",
       "      <th>age</th>\n",
       "      <th>sex</th>\n",
       "      <th>occupation</th>\n",
       "      <th>zip_code</th>\n",
       "      <th>top_item_rec_10</th>\n",
       "      <th>top_item_rec_9</th>\n",
       "      <th>top_item_rec_8</th>\n",
       "      <th>top_item_rec_7</th>\n",
       "      <th>top_item_rec_6</th>\n",
       "      <th>top_item_rec_5</th>\n",
       "      <th>top_item_rec_4</th>\n",
       "      <th>top_item_rec_3</th>\n",
       "      <th>top_item_rec_2</th>\n",
       "      <th>top_item_rec_1</th>\n",
       "      <th>MAE</th>\n",
       "    </tr>\n",
       "  </thead>\n",
       "  <tbody>\n",
       "    <tr>\n",
       "      <th>0</th>\n",
       "      <td>1</td>\n",
       "      <td>24</td>\n",
       "      <td>M</td>\n",
       "      <td>technician</td>\n",
       "      <td>85711</td>\n",
       "      <td>(157, 0.7723271263304753)</td>\n",
       "      <td>(140, 0.8083460131843717)</td>\n",
       "      <td>(289, 0.8229038569562933)</td>\n",
       "      <td>(403, 0.8492584991192819)</td>\n",
       "      <td>(189, 0.8784724637141467)</td>\n",
       "      <td>(24, 0.9557791230818324)</td>\n",
       "      <td>(77, 0.9651263988003596)</td>\n",
       "      <td>(52, 0.9972043688387865)</td>\n",
       "      <td>(49, 1.087835370472427)</td>\n",
       "      <td>(357, 1.23732700543932)</td>\n",
       "      <td>3.266474</td>\n",
       "    </tr>\n",
       "    <tr>\n",
       "      <th>1</th>\n",
       "      <td>2</td>\n",
       "      <td>53</td>\n",
       "      <td>F</td>\n",
       "      <td>other</td>\n",
       "      <td>94043</td>\n",
       "      <td>(24, 1.734229293430314)</td>\n",
       "      <td>(403, 1.8854881320126007)</td>\n",
       "      <td>(52, 1.9566243149946847)</td>\n",
       "      <td>(289, 2.0108796446376007)</td>\n",
       "      <td>(357, 2.059746434135098)</td>\n",
       "      <td>(60, 2.202347458984853)</td>\n",
       "      <td>(95, 2.304751459943746)</td>\n",
       "      <td>(719, 2.325810598980851)</td>\n",
       "      <td>(652, 2.4027525621185557)</td>\n",
       "      <td>(157, 2.567396864327809)</td>\n",
       "      <td>3.177943</td>\n",
       "    </tr>\n",
       "    <tr>\n",
       "      <th>2</th>\n",
       "      <td>3</td>\n",
       "      <td>23</td>\n",
       "      <td>M</td>\n",
       "      <td>writer</td>\n",
       "      <td>32067</td>\n",
       "      <td>(201, 2.348181818848246)</td>\n",
       "      <td>(408, 2.3683929522663227)</td>\n",
       "      <td>(52, 2.4013931428571524)</td>\n",
       "      <td>(156, 2.451994615216075)</td>\n",
       "      <td>(102, 2.4581523459491534)</td>\n",
       "      <td>(357, 2.479380701772362)</td>\n",
       "      <td>(231, 2.566556285976035)</td>\n",
       "      <td>(347, 2.654817646168223)</td>\n",
       "      <td>(161, 2.7931368912319248)</td>\n",
       "      <td>(101, 2.8234194961046883)</td>\n",
       "      <td>2.085301</td>\n",
       "    </tr>\n",
       "    <tr>\n",
       "      <th>3</th>\n",
       "      <td>4</td>\n",
       "      <td>24</td>\n",
       "      <td>M</td>\n",
       "      <td>technician</td>\n",
       "      <td>43537</td>\n",
       "      <td>(403, 4.385194023508565)</td>\n",
       "      <td>(24, 4.782620276071388)</td>\n",
       "      <td>(161, 4.850154219111494)</td>\n",
       "      <td>(31, 4.915006350252232)</td>\n",
       "      <td>(209, 4.938918582294495)</td>\n",
       "      <td>(49, 5.161245839690811)</td>\n",
       "      <td>(101, 5.204847192798675)</td>\n",
       "      <td>(216, 5.457915294228182)</td>\n",
       "      <td>(52, 5.724455259087394)</td>\n",
       "      <td>(357, 6.74437225820977)</td>\n",
       "      <td>4.221648</td>\n",
       "    </tr>\n",
       "    <tr>\n",
       "      <th>4</th>\n",
       "      <td>5</td>\n",
       "      <td>33</td>\n",
       "      <td>F</td>\n",
       "      <td>other</td>\n",
       "      <td>15213</td>\n",
       "      <td>(280, 1.332012758696001)</td>\n",
       "      <td>(130, 1.3827808208424306)</td>\n",
       "      <td>(491, 1.3922983194069607)</td>\n",
       "      <td>(60, 1.4094121070659302)</td>\n",
       "      <td>(98, 1.4256553927622204)</td>\n",
       "      <td>(289, 1.5773244017850399)</td>\n",
       "      <td>(157, 1.702531196701317)</td>\n",
       "      <td>(1, 1.7050668359749828)</td>\n",
       "      <td>(652, 1.8711352302869544)</td>\n",
       "      <td>(719, 1.9188250646442773)</td>\n",
       "      <td>2.415287</td>\n",
       "    </tr>\n",
       "  </tbody>\n",
       "</table>\n",
       "</div>\n",
       "      <button class=\"colab-df-convert\" onclick=\"convertToInteractive('df-1e5d43b0-a231-4a3d-97aa-516f9edc0dad')\"\n",
       "              title=\"Convert this dataframe to an interactive table.\"\n",
       "              style=\"display:none;\">\n",
       "        \n",
       "  <svg xmlns=\"http://www.w3.org/2000/svg\" height=\"24px\"viewBox=\"0 0 24 24\"\n",
       "       width=\"24px\">\n",
       "    <path d=\"M0 0h24v24H0V0z\" fill=\"none\"/>\n",
       "    <path d=\"M18.56 5.44l.94 2.06.94-2.06 2.06-.94-2.06-.94-.94-2.06-.94 2.06-2.06.94zm-11 1L8.5 8.5l.94-2.06 2.06-.94-2.06-.94L8.5 2.5l-.94 2.06-2.06.94zm10 10l.94 2.06.94-2.06 2.06-.94-2.06-.94-.94-2.06-.94 2.06-2.06.94z\"/><path d=\"M17.41 7.96l-1.37-1.37c-.4-.4-.92-.59-1.43-.59-.52 0-1.04.2-1.43.59L10.3 9.45l-7.72 7.72c-.78.78-.78 2.05 0 2.83L4 21.41c.39.39.9.59 1.41.59.51 0 1.02-.2 1.41-.59l7.78-7.78 2.81-2.81c.8-.78.8-2.07 0-2.86zM5.41 20L4 18.59l7.72-7.72 1.47 1.35L5.41 20z\"/>\n",
       "  </svg>\n",
       "      </button>\n",
       "      \n",
       "  <style>\n",
       "    .colab-df-container {\n",
       "      display:flex;\n",
       "      flex-wrap:wrap;\n",
       "      gap: 12px;\n",
       "    }\n",
       "\n",
       "    .colab-df-convert {\n",
       "      background-color: #E8F0FE;\n",
       "      border: none;\n",
       "      border-radius: 50%;\n",
       "      cursor: pointer;\n",
       "      display: none;\n",
       "      fill: #1967D2;\n",
       "      height: 32px;\n",
       "      padding: 0 0 0 0;\n",
       "      width: 32px;\n",
       "    }\n",
       "\n",
       "    .colab-df-convert:hover {\n",
       "      background-color: #E2EBFA;\n",
       "      box-shadow: 0px 1px 2px rgba(60, 64, 67, 0.3), 0px 1px 3px 1px rgba(60, 64, 67, 0.15);\n",
       "      fill: #174EA6;\n",
       "    }\n",
       "\n",
       "    [theme=dark] .colab-df-convert {\n",
       "      background-color: #3B4455;\n",
       "      fill: #D2E3FC;\n",
       "    }\n",
       "\n",
       "    [theme=dark] .colab-df-convert:hover {\n",
       "      background-color: #434B5C;\n",
       "      box-shadow: 0px 1px 3px 1px rgba(0, 0, 0, 0.15);\n",
       "      filter: drop-shadow(0px 1px 2px rgba(0, 0, 0, 0.3));\n",
       "      fill: #FFFFFF;\n",
       "    }\n",
       "  </style>\n",
       "\n",
       "      <script>\n",
       "        const buttonEl =\n",
       "          document.querySelector('#df-1e5d43b0-a231-4a3d-97aa-516f9edc0dad button.colab-df-convert');\n",
       "        buttonEl.style.display =\n",
       "          google.colab.kernel.accessAllowed ? 'block' : 'none';\n",
       "\n",
       "        async function convertToInteractive(key) {\n",
       "          const element = document.querySelector('#df-1e5d43b0-a231-4a3d-97aa-516f9edc0dad');\n",
       "          const dataTable =\n",
       "            await google.colab.kernel.invokeFunction('convertToInteractive',\n",
       "                                                     [key], {});\n",
       "          if (!dataTable) return;\n",
       "\n",
       "          const docLinkHtml = 'Like what you see? Visit the ' +\n",
       "            '<a target=\"_blank\" href=https://colab.research.google.com/notebooks/data_table.ipynb>data table notebook</a>'\n",
       "            + ' to learn more about interactive tables.';\n",
       "          element.innerHTML = '';\n",
       "          dataTable['output_type'] = 'display_data';\n",
       "          await google.colab.output.renderOutput(dataTable, element);\n",
       "          const docLink = document.createElement('div');\n",
       "          docLink.innerHTML = docLinkHtml;\n",
       "          element.appendChild(docLink);\n",
       "        }\n",
       "      </script>\n",
       "    </div>\n",
       "  </div>\n",
       "  "
      ],
      "text/plain": [
       "   user_id  age sex  occupation zip_code            top_item_rec_10  \\\n",
       "0        1   24   M  technician    85711  (157, 0.7723271263304753)   \n",
       "1        2   53   F       other    94043    (24, 1.734229293430314)   \n",
       "2        3   23   M      writer    32067   (201, 2.348181818848246)   \n",
       "3        4   24   M  technician    43537   (403, 4.385194023508565)   \n",
       "4        5   33   F       other    15213   (280, 1.332012758696001)   \n",
       "\n",
       "              top_item_rec_9             top_item_rec_8  \\\n",
       "0  (140, 0.8083460131843717)  (289, 0.8229038569562933)   \n",
       "1  (403, 1.8854881320126007)   (52, 1.9566243149946847)   \n",
       "2  (408, 2.3683929522663227)   (52, 2.4013931428571524)   \n",
       "3    (24, 4.782620276071388)   (161, 4.850154219111494)   \n",
       "4  (130, 1.3827808208424306)  (491, 1.3922983194069607)   \n",
       "\n",
       "              top_item_rec_7             top_item_rec_6  \\\n",
       "0  (403, 0.8492584991192819)  (189, 0.8784724637141467)   \n",
       "1  (289, 2.0108796446376007)   (357, 2.059746434135098)   \n",
       "2   (156, 2.451994615216075)  (102, 2.4581523459491534)   \n",
       "3    (31, 4.915006350252232)   (209, 4.938918582294495)   \n",
       "4   (60, 1.4094121070659302)   (98, 1.4256553927622204)   \n",
       "\n",
       "              top_item_rec_5            top_item_rec_4  \\\n",
       "0   (24, 0.9557791230818324)  (77, 0.9651263988003596)   \n",
       "1    (60, 2.202347458984853)   (95, 2.304751459943746)   \n",
       "2   (357, 2.479380701772362)  (231, 2.566556285976035)   \n",
       "3    (49, 5.161245839690811)  (101, 5.204847192798675)   \n",
       "4  (289, 1.5773244017850399)  (157, 1.702531196701317)   \n",
       "\n",
       "             top_item_rec_3             top_item_rec_2  \\\n",
       "0  (52, 0.9972043688387865)    (49, 1.087835370472427)   \n",
       "1  (719, 2.325810598980851)  (652, 2.4027525621185557)   \n",
       "2  (347, 2.654817646168223)  (161, 2.7931368912319248)   \n",
       "3  (216, 5.457915294228182)    (52, 5.724455259087394)   \n",
       "4   (1, 1.7050668359749828)  (652, 1.8711352302869544)   \n",
       "\n",
       "              top_item_rec_1       MAE  \n",
       "0    (357, 1.23732700543932)  3.266474  \n",
       "1   (157, 2.567396864327809)  3.177943  \n",
       "2  (101, 2.8234194961046883)  2.085301  \n",
       "3    (357, 6.74437225820977)  4.221648  \n",
       "4  (719, 1.9188250646442773)  2.415287  "
      ]
     },
     "execution_count": 23,
     "metadata": {},
     "output_type": "execute_result"
    }
   ],
   "source": [
    "users.head()"
   ]
  },
  {
   "cell_type": "markdown",
   "metadata": {
    "id": "qBXBpowj4lqd"
   },
   "source": [
    "**Protected Groups**"
   ]
  },
  {
   "cell_type": "code",
   "execution_count": null,
   "metadata": {
    "id": "KjeXaq3J4jhE"
   },
   "outputs": [],
   "source": [
    "from enum import Enum\n",
    "\n",
    "class AgeRange(Enum):\n",
    "  kid = 'kid'\n",
    "  young = 'young'\n",
    "  adult = 'adult'\n",
    "  old = 'old'"
   ]
  },
  {
   "cell_type": "code",
   "execution_count": null,
   "metadata": {
    "id": "1HaKlTUg7xL3"
   },
   "outputs": [],
   "source": [
    "class Gender(Enum):\n",
    "  male = 'male'\n",
    "  female = 'female'"
   ]
  },
  {
   "cell_type": "markdown",
   "metadata": {
    "id": "qQBqaBRYv3aB"
   },
   "source": [
    "**ProtectedUtil**"
   ]
  },
  {
   "cell_type": "code",
   "execution_count": null,
   "metadata": {
    "id": "HXkKSIrf67J0"
   },
   "outputs": [],
   "source": [
    "class ProtectedUtil:\n",
    "  def __init__(self, df):\n",
    "    self.df = df\n",
    "\n",
    "  def get_ids(self, id_key):\n",
    "    return list(self.df[id_key])\n",
    "\n",
    "  def filter_by_occupation(self , occupation):\n",
    "    self.df = self.df[self.df['occupation'] == occupation]\n",
    "\n",
    "  def filter_by_gender(self, gender):\n",
    "    filtered_df = None\n",
    "    if gender == Gender.male:\n",
    "      filtered_df = self.df[self.df['sex'] == 'M'] \n",
    "    elif gender == Gender.female:\n",
    "      filtered_df = self.df[self.df['sex'] == 'F']\n",
    "\n",
    "    self.df = filtered_df\n",
    "\n",
    "  def filter_by_age_range(self, age_range):\n",
    "    filtered_df = None\n",
    "    if age_range == AgeRange.kid:\n",
    "      filtered_df = self.df[self.df['age'] < 18]\n",
    "    elif age_range == AgeRange.young:\n",
    "      filtered_df = self.df[(self.df['age'] >= 18) & (self.df['age'] < 25)]\n",
    "    elif age_range == AgeRange.adult:\n",
    "      filtered_df = self.df[(self.df['age'] >= 25) & (self.df['age'] < 35)]\n",
    "    elif age_range == AgeRange.old:\n",
    "      filtered_df = self.df[self.df['age'] >= 35]\n",
    "    \n",
    "    self.df = filtered_df"
   ]
  },
  {
   "cell_type": "code",
   "execution_count": null,
   "metadata": {
    "id": "NLIlM8N3-WHW"
   },
   "outputs": [],
   "source": [
    "import itertools\n",
    "\n",
    "age_ranges = [AgeRange.kid , AgeRange.young , AgeRange.adult , AgeRange.old]\n",
    "genders = [Gender.male , Gender.female]\n",
    "occupations = list(pd.unique(users['occupation']))\n",
    "\n",
    "\n",
    "def gen_protected_groups():\n",
    "  for age_range,gender,occupation in itertools.product(age_ranges , genders , occupations):\n",
    "      p_u = ProtectedUtil(users)\n",
    "      p_u.filter_by_age_range(age_range)\n",
    "      p_u.filter_by_gender(gender)\n",
    "      p_u.filter_by_occupation(occupation)\n",
    "      \n",
    "      yield {'age_range': age_range,\n",
    "             'gender': gender,\n",
    "             'occupation': occupation,\n",
    "             'user_ids': p_u.get_ids('user_id')}"
   ]
  },
  {
   "cell_type": "code",
   "execution_count": null,
   "metadata": {
    "id": "t1D2RRPV2j7p"
   },
   "outputs": [],
   "source": [
    "protected_group_gen = gen_protected_groups()"
   ]
  },
  {
   "cell_type": "markdown",
   "metadata": {
    "id": "HFcu7Ocnj7r5"
   },
   "source": [
    "**Get Average Of MAE On set of users**"
   ]
  },
  {
   "cell_type": "code",
   "execution_count": null,
   "metadata": {
    "id": "48PvOE8_j0e9"
   },
   "outputs": [],
   "source": [
    "def MAE_batch(rec_model , user_ids):\n",
    "  if len(user_ids) == 0:\n",
    "    return None\n",
    "  return sum([MAE(rec_model , user_id) for user_id in user_ids]) / len(user_ids)"
   ]
  },
  {
   "cell_type": "markdown",
   "metadata": {
    "id": "7SoCaQdU33aG"
   },
   "source": [
    "**Compute MAE metric for each of protected groups**"
   ]
  },
  {
   "cell_type": "code",
   "execution_count": null,
   "metadata": {
    "id": "f2PU0yuB29_g"
   },
   "outputs": [],
   "source": [
    "protected_group_gen = gen_protected_groups()\n",
    "mae_data = {}\n",
    "\n",
    "while True:\n",
    "  try:\n",
    "    protected_group_data = next(protected_group_gen)\n",
    "    \n",
    "    mae_data[(protected_group_data['age_range'],\n",
    "              protected_group_data['gender'],\n",
    "              protected_group_data['occupation'])] = MAE_batch(rec_model=REC_MODEL,\n",
    "                                                               user_ids = protected_group_data['user_ids'])\n",
    "  except StopIteration:\n",
    "    break"
   ]
  },
  {
   "cell_type": "markdown",
   "metadata": {
    "id": "4ikVmmh2RsOk"
   },
   "source": [
    "**MAX MAE GROUP**"
   ]
  },
  {
   "cell_type": "code",
   "execution_count": null,
   "metadata": {
    "colab": {
     "base_uri": "https://localhost:8080/"
    },
    "id": "omt0IJFyFF6s",
    "outputId": "30fc9bd0-a8ba-4af6-d549-e4bf6fe2310e"
   },
   "outputs": [
    {
     "data": {
      "text/plain": [
       "((<AgeRange.young: 'young'>, <Gender.female: 'female'>, 'writer'),\n",
       " 4.0899388250724105)"
      ]
     },
     "execution_count": 31,
     "metadata": {},
     "output_type": "execute_result"
    }
   ],
   "source": [
    "max([entry for entry in mae_data.items() if entry[1] is not None], key=lambda entry: entry[1])"
   ]
  },
  {
   "cell_type": "markdown",
   "metadata": {
    "id": "p3JF0IweSKiC"
   },
   "source": [
    "**MIN MAE GROUP**"
   ]
  },
  {
   "cell_type": "code",
   "execution_count": null,
   "metadata": {
    "colab": {
     "base_uri": "https://localhost:8080/"
    },
    "id": "grwz5SnZSOTI",
    "outputId": "8b5408fd-5c5c-440f-f935-ac9591c76685"
   },
   "outputs": [
    {
     "data": {
      "text/plain": [
       "((<AgeRange.young: 'young'>, <Gender.female: 'female'>, 'healthcare'),\n",
       " 1.4860571413721544)"
      ]
     },
     "execution_count": 32,
     "metadata": {},
     "output_type": "execute_result"
    }
   ],
   "source": [
    "min([entry for entry in mae_data.items() if entry[1] is not None], key=lambda entry: entry[1])"
   ]
  },
  {
   "cell_type": "markdown",
   "metadata": {
    "id": "1o26upBKZe2e"
   },
   "source": [
    "**RMSE**"
   ]
  },
  {
   "cell_type": "code",
   "execution_count": null,
   "metadata": {
    "id": "Le01vHg-tGQv"
   },
   "outputs": [],
   "source": [
    "import math\n",
    "\n",
    "def RMSE(rec_model , user_id):\n",
    "  item_to_rec_score_mapping = get_item_to_rec_score_mapping(rec_model , user_id)\n",
    "  rating_dict = get_rating_dict(user_id)\n",
    "  return math.sqrt(sum([(item_to_rec_score_mapping[item] - rating)**2 for item,rating in rating_dict.items() if item in item_to_rec_score_mapping]) / len(rating_dict))"
   ]
  },
  {
   "cell_type": "code",
   "execution_count": null,
   "metadata": {
    "id": "VNFklgEzu-zs"
   },
   "outputs": [],
   "source": [
    "rmse_list = []\n",
    "for user_id in users['user_id']:\n",
    "  rmse = None\n",
    "  try:\n",
    "    rmse = RMSE(REC_MODEL, user_id)\n",
    "  except Exception:\n",
    "    pass\n",
    "  rmse_list.append(rmse)"
   ]
  },
  {
   "cell_type": "code",
   "execution_count": null,
   "metadata": {
    "id": "6BSRwOM3vLfG"
   },
   "outputs": [],
   "source": [
    "users['RMSE'] = rmse_list"
   ]
  },
  {
   "cell_type": "code",
   "execution_count": null,
   "metadata": {
    "colab": {
     "base_uri": "https://localhost:8080/",
     "height": 357
    },
    "id": "OLzrmKgNvOja",
    "outputId": "17ebc09c-c0df-4df1-fd75-a8ee606a21d8"
   },
   "outputs": [
    {
     "data": {
      "text/html": [
       "\n",
       "  <div id=\"df-d8dad913-87d8-42d0-b3a6-15be27a791bf\">\n",
       "    <div class=\"colab-df-container\">\n",
       "      <div>\n",
       "<style scoped>\n",
       "    .dataframe tbody tr th:only-of-type {\n",
       "        vertical-align: middle;\n",
       "    }\n",
       "\n",
       "    .dataframe tbody tr th {\n",
       "        vertical-align: top;\n",
       "    }\n",
       "\n",
       "    .dataframe thead th {\n",
       "        text-align: right;\n",
       "    }\n",
       "</style>\n",
       "<table border=\"1\" class=\"dataframe\">\n",
       "  <thead>\n",
       "    <tr style=\"text-align: right;\">\n",
       "      <th></th>\n",
       "      <th>user_id</th>\n",
       "      <th>age</th>\n",
       "      <th>sex</th>\n",
       "      <th>occupation</th>\n",
       "      <th>zip_code</th>\n",
       "      <th>top_item_rec_10</th>\n",
       "      <th>top_item_rec_9</th>\n",
       "      <th>top_item_rec_8</th>\n",
       "      <th>top_item_rec_7</th>\n",
       "      <th>top_item_rec_6</th>\n",
       "      <th>top_item_rec_5</th>\n",
       "      <th>top_item_rec_4</th>\n",
       "      <th>top_item_rec_3</th>\n",
       "      <th>top_item_rec_2</th>\n",
       "      <th>top_item_rec_1</th>\n",
       "      <th>MAE</th>\n",
       "      <th>RMSE</th>\n",
       "    </tr>\n",
       "  </thead>\n",
       "  <tbody>\n",
       "    <tr>\n",
       "      <th>0</th>\n",
       "      <td>1</td>\n",
       "      <td>24</td>\n",
       "      <td>M</td>\n",
       "      <td>technician</td>\n",
       "      <td>85711</td>\n",
       "      <td>(157, 0.7723271263304753)</td>\n",
       "      <td>(140, 0.8083460131843717)</td>\n",
       "      <td>(289, 0.8229038569562933)</td>\n",
       "      <td>(403, 0.8492584991192819)</td>\n",
       "      <td>(189, 0.8784724637141467)</td>\n",
       "      <td>(24, 0.9557791230818324)</td>\n",
       "      <td>(77, 0.9651263988003596)</td>\n",
       "      <td>(52, 0.9972043688387865)</td>\n",
       "      <td>(49, 1.087835370472427)</td>\n",
       "      <td>(357, 1.23732700543932)</td>\n",
       "      <td>3.266474</td>\n",
       "      <td>3.528124</td>\n",
       "    </tr>\n",
       "    <tr>\n",
       "      <th>1</th>\n",
       "      <td>2</td>\n",
       "      <td>53</td>\n",
       "      <td>F</td>\n",
       "      <td>other</td>\n",
       "      <td>94043</td>\n",
       "      <td>(24, 1.734229293430314)</td>\n",
       "      <td>(403, 1.8854881320126007)</td>\n",
       "      <td>(52, 1.9566243149946847)</td>\n",
       "      <td>(289, 2.0108796446376007)</td>\n",
       "      <td>(357, 2.059746434135098)</td>\n",
       "      <td>(60, 2.202347458984853)</td>\n",
       "      <td>(95, 2.304751459943746)</td>\n",
       "      <td>(719, 2.325810598980851)</td>\n",
       "      <td>(652, 2.4027525621185557)</td>\n",
       "      <td>(157, 2.567396864327809)</td>\n",
       "      <td>3.177943</td>\n",
       "      <td>3.355227</td>\n",
       "    </tr>\n",
       "    <tr>\n",
       "      <th>2</th>\n",
       "      <td>3</td>\n",
       "      <td>23</td>\n",
       "      <td>M</td>\n",
       "      <td>writer</td>\n",
       "      <td>32067</td>\n",
       "      <td>(201, 2.348181818848246)</td>\n",
       "      <td>(408, 2.3683929522663227)</td>\n",
       "      <td>(52, 2.4013931428571524)</td>\n",
       "      <td>(156, 2.451994615216075)</td>\n",
       "      <td>(102, 2.4581523459491534)</td>\n",
       "      <td>(357, 2.479380701772362)</td>\n",
       "      <td>(231, 2.566556285976035)</td>\n",
       "      <td>(347, 2.654817646168223)</td>\n",
       "      <td>(161, 2.7931368912319248)</td>\n",
       "      <td>(101, 2.8234194961046883)</td>\n",
       "      <td>2.085301</td>\n",
       "      <td>2.458474</td>\n",
       "    </tr>\n",
       "    <tr>\n",
       "      <th>3</th>\n",
       "      <td>4</td>\n",
       "      <td>24</td>\n",
       "      <td>M</td>\n",
       "      <td>technician</td>\n",
       "      <td>43537</td>\n",
       "      <td>(403, 4.385194023508565)</td>\n",
       "      <td>(24, 4.782620276071388)</td>\n",
       "      <td>(161, 4.850154219111494)</td>\n",
       "      <td>(31, 4.915006350252232)</td>\n",
       "      <td>(209, 4.938918582294495)</td>\n",
       "      <td>(49, 5.161245839690811)</td>\n",
       "      <td>(101, 5.204847192798675)</td>\n",
       "      <td>(216, 5.457915294228182)</td>\n",
       "      <td>(52, 5.724455259087394)</td>\n",
       "      <td>(357, 6.74437225820977)</td>\n",
       "      <td>4.221648</td>\n",
       "      <td>4.315035</td>\n",
       "    </tr>\n",
       "    <tr>\n",
       "      <th>4</th>\n",
       "      <td>5</td>\n",
       "      <td>33</td>\n",
       "      <td>F</td>\n",
       "      <td>other</td>\n",
       "      <td>15213</td>\n",
       "      <td>(280, 1.332012758696001)</td>\n",
       "      <td>(130, 1.3827808208424306)</td>\n",
       "      <td>(491, 1.3922983194069607)</td>\n",
       "      <td>(60, 1.4094121070659302)</td>\n",
       "      <td>(98, 1.4256553927622204)</td>\n",
       "      <td>(289, 1.5773244017850399)</td>\n",
       "      <td>(157, 1.702531196701317)</td>\n",
       "      <td>(1, 1.7050668359749828)</td>\n",
       "      <td>(652, 1.8711352302869544)</td>\n",
       "      <td>(719, 1.9188250646442773)</td>\n",
       "      <td>2.415287</td>\n",
       "      <td>2.775780</td>\n",
       "    </tr>\n",
       "  </tbody>\n",
       "</table>\n",
       "</div>\n",
       "      <button class=\"colab-df-convert\" onclick=\"convertToInteractive('df-d8dad913-87d8-42d0-b3a6-15be27a791bf')\"\n",
       "              title=\"Convert this dataframe to an interactive table.\"\n",
       "              style=\"display:none;\">\n",
       "        \n",
       "  <svg xmlns=\"http://www.w3.org/2000/svg\" height=\"24px\"viewBox=\"0 0 24 24\"\n",
       "       width=\"24px\">\n",
       "    <path d=\"M0 0h24v24H0V0z\" fill=\"none\"/>\n",
       "    <path d=\"M18.56 5.44l.94 2.06.94-2.06 2.06-.94-2.06-.94-.94-2.06-.94 2.06-2.06.94zm-11 1L8.5 8.5l.94-2.06 2.06-.94-2.06-.94L8.5 2.5l-.94 2.06-2.06.94zm10 10l.94 2.06.94-2.06 2.06-.94-2.06-.94-.94-2.06-.94 2.06-2.06.94z\"/><path d=\"M17.41 7.96l-1.37-1.37c-.4-.4-.92-.59-1.43-.59-.52 0-1.04.2-1.43.59L10.3 9.45l-7.72 7.72c-.78.78-.78 2.05 0 2.83L4 21.41c.39.39.9.59 1.41.59.51 0 1.02-.2 1.41-.59l7.78-7.78 2.81-2.81c.8-.78.8-2.07 0-2.86zM5.41 20L4 18.59l7.72-7.72 1.47 1.35L5.41 20z\"/>\n",
       "  </svg>\n",
       "      </button>\n",
       "      \n",
       "  <style>\n",
       "    .colab-df-container {\n",
       "      display:flex;\n",
       "      flex-wrap:wrap;\n",
       "      gap: 12px;\n",
       "    }\n",
       "\n",
       "    .colab-df-convert {\n",
       "      background-color: #E8F0FE;\n",
       "      border: none;\n",
       "      border-radius: 50%;\n",
       "      cursor: pointer;\n",
       "      display: none;\n",
       "      fill: #1967D2;\n",
       "      height: 32px;\n",
       "      padding: 0 0 0 0;\n",
       "      width: 32px;\n",
       "    }\n",
       "\n",
       "    .colab-df-convert:hover {\n",
       "      background-color: #E2EBFA;\n",
       "      box-shadow: 0px 1px 2px rgba(60, 64, 67, 0.3), 0px 1px 3px 1px rgba(60, 64, 67, 0.15);\n",
       "      fill: #174EA6;\n",
       "    }\n",
       "\n",
       "    [theme=dark] .colab-df-convert {\n",
       "      background-color: #3B4455;\n",
       "      fill: #D2E3FC;\n",
       "    }\n",
       "\n",
       "    [theme=dark] .colab-df-convert:hover {\n",
       "      background-color: #434B5C;\n",
       "      box-shadow: 0px 1px 3px 1px rgba(0, 0, 0, 0.15);\n",
       "      filter: drop-shadow(0px 1px 2px rgba(0, 0, 0, 0.3));\n",
       "      fill: #FFFFFF;\n",
       "    }\n",
       "  </style>\n",
       "\n",
       "      <script>\n",
       "        const buttonEl =\n",
       "          document.querySelector('#df-d8dad913-87d8-42d0-b3a6-15be27a791bf button.colab-df-convert');\n",
       "        buttonEl.style.display =\n",
       "          google.colab.kernel.accessAllowed ? 'block' : 'none';\n",
       "\n",
       "        async function convertToInteractive(key) {\n",
       "          const element = document.querySelector('#df-d8dad913-87d8-42d0-b3a6-15be27a791bf');\n",
       "          const dataTable =\n",
       "            await google.colab.kernel.invokeFunction('convertToInteractive',\n",
       "                                                     [key], {});\n",
       "          if (!dataTable) return;\n",
       "\n",
       "          const docLinkHtml = 'Like what you see? Visit the ' +\n",
       "            '<a target=\"_blank\" href=https://colab.research.google.com/notebooks/data_table.ipynb>data table notebook</a>'\n",
       "            + ' to learn more about interactive tables.';\n",
       "          element.innerHTML = '';\n",
       "          dataTable['output_type'] = 'display_data';\n",
       "          await google.colab.output.renderOutput(dataTable, element);\n",
       "          const docLink = document.createElement('div');\n",
       "          docLink.innerHTML = docLinkHtml;\n",
       "          element.appendChild(docLink);\n",
       "        }\n",
       "      </script>\n",
       "    </div>\n",
       "  </div>\n",
       "  "
      ],
      "text/plain": [
       "   user_id  age sex  occupation zip_code            top_item_rec_10  \\\n",
       "0        1   24   M  technician    85711  (157, 0.7723271263304753)   \n",
       "1        2   53   F       other    94043    (24, 1.734229293430314)   \n",
       "2        3   23   M      writer    32067   (201, 2.348181818848246)   \n",
       "3        4   24   M  technician    43537   (403, 4.385194023508565)   \n",
       "4        5   33   F       other    15213   (280, 1.332012758696001)   \n",
       "\n",
       "              top_item_rec_9             top_item_rec_8  \\\n",
       "0  (140, 0.8083460131843717)  (289, 0.8229038569562933)   \n",
       "1  (403, 1.8854881320126007)   (52, 1.9566243149946847)   \n",
       "2  (408, 2.3683929522663227)   (52, 2.4013931428571524)   \n",
       "3    (24, 4.782620276071388)   (161, 4.850154219111494)   \n",
       "4  (130, 1.3827808208424306)  (491, 1.3922983194069607)   \n",
       "\n",
       "              top_item_rec_7             top_item_rec_6  \\\n",
       "0  (403, 0.8492584991192819)  (189, 0.8784724637141467)   \n",
       "1  (289, 2.0108796446376007)   (357, 2.059746434135098)   \n",
       "2   (156, 2.451994615216075)  (102, 2.4581523459491534)   \n",
       "3    (31, 4.915006350252232)   (209, 4.938918582294495)   \n",
       "4   (60, 1.4094121070659302)   (98, 1.4256553927622204)   \n",
       "\n",
       "              top_item_rec_5            top_item_rec_4  \\\n",
       "0   (24, 0.9557791230818324)  (77, 0.9651263988003596)   \n",
       "1    (60, 2.202347458984853)   (95, 2.304751459943746)   \n",
       "2   (357, 2.479380701772362)  (231, 2.566556285976035)   \n",
       "3    (49, 5.161245839690811)  (101, 5.204847192798675)   \n",
       "4  (289, 1.5773244017850399)  (157, 1.702531196701317)   \n",
       "\n",
       "             top_item_rec_3             top_item_rec_2  \\\n",
       "0  (52, 0.9972043688387865)    (49, 1.087835370472427)   \n",
       "1  (719, 2.325810598980851)  (652, 2.4027525621185557)   \n",
       "2  (347, 2.654817646168223)  (161, 2.7931368912319248)   \n",
       "3  (216, 5.457915294228182)    (52, 5.724455259087394)   \n",
       "4   (1, 1.7050668359749828)  (652, 1.8711352302869544)   \n",
       "\n",
       "              top_item_rec_1       MAE      RMSE  \n",
       "0    (357, 1.23732700543932)  3.266474  3.528124  \n",
       "1   (157, 2.567396864327809)  3.177943  3.355227  \n",
       "2  (101, 2.8234194961046883)  2.085301  2.458474  \n",
       "3    (357, 6.74437225820977)  4.221648  4.315035  \n",
       "4  (719, 1.9188250646442773)  2.415287  2.775780  "
      ]
     },
     "execution_count": 36,
     "metadata": {},
     "output_type": "execute_result"
    }
   ],
   "source": [
    "users.head()"
   ]
  },
  {
   "cell_type": "code",
   "execution_count": null,
   "metadata": {
    "id": "DlGgVL0MV8Sa"
   },
   "outputs": [],
   "source": [
    "def RMSE_batch(rec_model , user_ids):\n",
    "  if len(user_ids) == 0:\n",
    "    return None\n",
    "  return sum([RMSE(rec_model , user_id) for user_id in user_ids]) / len(user_ids)"
   ]
  },
  {
   "cell_type": "code",
   "execution_count": null,
   "metadata": {
    "id": "cWYEuqhQVsij"
   },
   "outputs": [],
   "source": [
    "protected_group_gen = gen_protected_groups()\n",
    "rmse_data = {}\n",
    "\n",
    "while True:\n",
    "  try:\n",
    "    protected_group_data = next(protected_group_gen)\n",
    "    \n",
    "    rmse_data[(protected_group_data['age_range'],\n",
    "              protected_group_data['gender'],\n",
    "              protected_group_data['occupation'])] = RMSE_batch(rec_model=REC_MODEL,\n",
    "                                                               user_ids = protected_group_data['user_ids'])\n",
    "  except StopIteration:\n",
    "    break"
   ]
  },
  {
   "cell_type": "markdown",
   "metadata": {
    "id": "t5g2iWpEYNys"
   },
   "source": [
    "**Max RMSE group**"
   ]
  },
  {
   "cell_type": "code",
   "execution_count": null,
   "metadata": {
    "colab": {
     "base_uri": "https://localhost:8080/"
    },
    "id": "_XPaeVO9YQ3A",
    "outputId": "1d329122-6bdc-456f-c4cb-b233566f9ced"
   },
   "outputs": [
    {
     "data": {
      "text/plain": [
       "((<AgeRange.young: 'young'>, <Gender.female: 'female'>, 'writer'),\n",
       " 4.221165139103791)"
      ]
     },
     "execution_count": 39,
     "metadata": {},
     "output_type": "execute_result"
    }
   ],
   "source": [
    "max([entry for entry in rmse_data.items() if entry[1] is not None], key=lambda entry: entry[1])"
   ]
  },
  {
   "cell_type": "markdown",
   "metadata": {
    "id": "Sany-dKvYbKs"
   },
   "source": [
    "**Min RMSE group**"
   ]
  },
  {
   "cell_type": "code",
   "execution_count": null,
   "metadata": {
    "colab": {
     "base_uri": "https://localhost:8080/"
    },
    "id": "tiv9WPR0Ydk5",
    "outputId": "b482d5bf-0dfe-4f89-e44b-486dbbdb845b"
   },
   "outputs": [
    {
     "data": {
      "text/plain": [
       "((<AgeRange.young: 'young'>, <Gender.female: 'female'>, 'healthcare'),\n",
       " 1.9347284731687096)"
      ]
     },
     "execution_count": 40,
     "metadata": {},
     "output_type": "execute_result"
    }
   ],
   "source": [
    "min([entry for entry in rmse_data.items() if entry[1] is not None], key=lambda entry: entry[1])"
   ]
  },
  {
   "cell_type": "markdown",
   "metadata": {
    "id": "rvqUhdGmv5xd"
   },
   "source": [
    "**MAP@K**"
   ]
  },
  {
   "cell_type": "code",
   "execution_count": null,
   "metadata": {
    "id": "Li7C0geEhIG0"
   },
   "outputs": [],
   "source": [
    "def get_k_most_rec(rec_model , user_id, k):\n",
    "  item_to_rec_score_mapping = get_item_to_rec_score_mapping(rec_model , user_id)\n",
    "  return [item for item,_ in sorted(item_to_rec_score_mapping.items(), key=lambda entry: entry[1])[-k:]]"
   ]
  },
  {
   "cell_type": "code",
   "execution_count": null,
   "metadata": {
    "id": "L9xsP1O0wCJk"
   },
   "outputs": [],
   "source": [
    "def MAP_K(rec_model , user_id, k):\n",
    "  most_rec_items = get_k_most_rec(rec_model , user_id, k)\n",
    "  return most_rec_items"
   ]
  },
  {
   "cell_type": "code",
   "execution_count": null,
   "metadata": {
    "id": "m2eGi-EPg1G-"
   },
   "outputs": [],
   "source": [
    "a = MAP_K(REC_MODEL, 1, 300)"
   ]
  },
  {
   "cell_type": "code",
   "execution_count": null,
   "metadata": {
    "id": "rVevfS_Sieht"
   },
   "outputs": [],
   "source": [
    "user_ratings = rating_groups.get_group(1)\n",
    "\n",
    "# len(user_ratings.groupby(by=['rating']).get_group(5))\n",
    "b = user_ratings[user_ratings['rating']==5]['movie_id']\n",
    "for item in a:\n",
    "  if item in b:\n",
    "    print(item) \n",
    "# list()"
   ]
  },
  {
   "cell_type": "code",
   "execution_count": null,
   "metadata": {
    "id": "P_OoWuWEYtTQ"
   },
   "outputs": [],
   "source": [
    "# from cornac.models import PMF\n",
    "\n",
    "# # Load the MovieLens 100K dataset\n",
    "# ml_100k = movielens.load_feedback()\n",
    "# a\n",
    "# # Instantiate an evaluation method.\n",
    "# ratio_split = RatioSplit(data=ml_100k, test_size=0.2, rating_threshold=4.0, exclude_unknowns=False)\n",
    "\n",
    "# # Instantiate a PMF recommender model.\n",
    "# pmf = PMF(k=10, max_iter=100, learning_rate=0.001, lamda=0.001)\n",
    "\n",
    "# # Instantiate evaluation metrics.\n",
    "# mae = cornac.metrics.MAE()\n",
    "# rmse = cornac.metrics.RMSE()\n",
    "# rec_20 = cornac.metrics.Recall(k=20)\n",
    "# pre_20 = cornac.metrics.Precision(k=20)\n",
    "\n",
    "# # Instantiate and then run an experiment.\n",
    "# exp = cornac.Experiment(eval_method=ratio_split,\n",
    "#                         models=[pmf],\n",
    "#                         metrics=[mae, rmse, rec_20, pre_20],\n",
    "#                         user_based=True)\n",
    "# exp.run()"
   ]
  },
  {
   "cell_type": "markdown",
   "metadata": {
    "id": "310e72ZSXgqA"
   },
   "source": [
    "**NDCG@K**"
   ]
  },
  {
   "cell_type": "code",
   "execution_count": null,
   "metadata": {
    "id": "1X89mPgpXi_T"
   },
   "outputs": [],
   "source": [
    "def NDCG_K(rec_model , user_id , k):\n",
    "  most_rec_items = get_k_most_rec(rec_model , user_id , k)\n",
    "  user_rated_movie_ids = set(rating_groups.get_group(user_id)['movie_id'])\n",
    "  return len([item for item in most_rec_items if item in user_rated_movie_ids]) / len(most_rec_items)\n",
    "  # user_item_ratings = rating_groups.get_group(user_id).groupby(by=['rating'])\n",
    "  \n",
    "  # rating_movies = {\n",
    "  #     rating: list(user_item_ratings.get_group(rating)['movie_id'])\n",
    "  #     for rating in range(1,6)\n",
    "  # }\n",
    "  \n",
    "  # return rating_movies"
   ]
  },
  {
   "cell_type": "code",
   "execution_count": null,
   "metadata": {
    "id": "_zCGHGi6M6-t"
   },
   "outputs": [],
   "source": [
    "def average(arr):\n",
    "  return sum(arr) / len(arr)"
   ]
  },
  {
   "cell_type": "code",
   "execution_count": null,
   "metadata": {
    "colab": {
     "base_uri": "https://localhost:8080/"
    },
    "id": "th5X-52UM_7Z",
    "outputId": "a77ab2d2-8ce7-461c-f85a-b664203d38db"
   },
   "outputs": [
    {
     "data": {
      "text/plain": [
       "0.1060445387062562"
      ]
     },
     "execution_count": 48,
     "metadata": {},
     "output_type": "execute_result"
    }
   ],
   "source": [
    "K=20\n",
    "average([NDCG_K(REC_MODEL, user_id, K) for user_id in users['user_id']])"
   ]
  },
  {
   "cell_type": "code",
   "execution_count": null,
   "metadata": {
    "colab": {
     "base_uri": "https://localhost:8080/"
    },
    "id": "Qjutunl6aowR",
    "outputId": "70cef03e-b4eb-447a-f70c-c37a94d0d1ae"
   },
   "outputs": [
    {
     "data": {
      "text/plain": [
       "0.4"
      ]
     },
     "execution_count": 49,
     "metadata": {},
     "output_type": "execute_result"
    }
   ],
   "source": [
    "NDCG_K(REC_MODEL, 1, 20)"
   ]
  }
 ],
 "metadata": {
  "colab": {
   "provenance": []
  },
  "kernelspec": {
   "display_name": "Python 3 (ipykernel)",
   "language": "python",
   "name": "python3"
  },
  "language_info": {
   "codemirror_mode": {
    "name": "ipython",
    "version": 3
   },
   "file_extension": ".py",
   "mimetype": "text/x-python",
   "name": "python",
   "nbconvert_exporter": "python",
   "pygments_lexer": "ipython3",
   "version": "3.9.7"
  },
  "widgets": {
   "application/vnd.jupyter.widget-state+json": {
    "0fc11ffd158b4238be1f582790c8bb90": {
     "model_module": "@jupyter-widgets/base",
     "model_module_version": "1.2.0",
     "model_name": "LayoutModel",
     "state": {
      "_model_module": "@jupyter-widgets/base",
      "_model_module_version": "1.2.0",
      "_model_name": "LayoutModel",
      "_view_count": null,
      "_view_module": "@jupyter-widgets/base",
      "_view_module_version": "1.2.0",
      "_view_name": "LayoutView",
      "align_content": null,
      "align_items": null,
      "align_self": null,
      "border": null,
      "bottom": null,
      "display": null,
      "flex": null,
      "flex_flow": null,
      "grid_area": null,
      "grid_auto_columns": null,
      "grid_auto_flow": null,
      "grid_auto_rows": null,
      "grid_column": null,
      "grid_gap": null,
      "grid_row": null,
      "grid_template_areas": null,
      "grid_template_columns": null,
      "grid_template_rows": null,
      "height": null,
      "justify_content": null,
      "justify_items": null,
      "left": null,
      "margin": null,
      "max_height": null,
      "max_width": null,
      "min_height": null,
      "min_width": null,
      "object_fit": null,
      "object_position": null,
      "order": null,
      "overflow": null,
      "overflow_x": null,
      "overflow_y": null,
      "padding": null,
      "right": null,
      "top": null,
      "visibility": null,
      "width": null
     }
    },
    "1badfba111d44863b24982e00106e802": {
     "model_module": "@jupyter-widgets/controls",
     "model_module_version": "1.5.0",
     "model_name": "HTMLModel",
     "state": {
      "_dom_classes": [],
      "_model_module": "@jupyter-widgets/controls",
      "_model_module_version": "1.5.0",
      "_model_name": "HTMLModel",
      "_view_count": null,
      "_view_module": "@jupyter-widgets/controls",
      "_view_module_version": "1.5.0",
      "_view_name": "HTMLView",
      "description": "",
      "description_tooltip": null,
      "layout": "IPY_MODEL_c33844acf7dd475488d024bc664c4670",
      "placeholder": "​",
      "style": "IPY_MODEL_ee542ca2713e41efbd0bacf82cf6deb3",
      "value": " 1.99M/? [00:01&lt;00:00, 2.20MB/s]"
     }
    },
    "1fea6c06c40f4e40b81cc14436576e42": {
     "model_module": "@jupyter-widgets/controls",
     "model_module_version": "1.5.0",
     "model_name": "DescriptionStyleModel",
     "state": {
      "_model_module": "@jupyter-widgets/controls",
      "_model_module_version": "1.5.0",
      "_model_name": "DescriptionStyleModel",
      "_view_count": null,
      "_view_module": "@jupyter-widgets/base",
      "_view_module_version": "1.2.0",
      "_view_name": "StyleView",
      "description_width": ""
     }
    },
    "255ddfc0eb16489bae5c9b9e006fa06d": {
     "model_module": "@jupyter-widgets/controls",
     "model_module_version": "1.5.0",
     "model_name": "HTMLModel",
     "state": {
      "_dom_classes": [],
      "_model_module": "@jupyter-widgets/controls",
      "_model_module_version": "1.5.0",
      "_model_name": "HTMLModel",
      "_view_count": null,
      "_view_module": "@jupyter-widgets/controls",
      "_view_module_version": "1.5.0",
      "_view_name": "HTMLView",
      "description": "",
      "description_tooltip": null,
      "layout": "IPY_MODEL_c80d9cf5400344ef92c114b441db99b8",
      "placeholder": "​",
      "style": "IPY_MODEL_1fea6c06c40f4e40b81cc14436576e42",
      "value": " 100/100 [00:14&lt;00:00,  5.04it/s, loss=11.7]"
     }
    },
    "2eef9b2406f648a491ac3d7b4e59976b": {
     "model_module": "@jupyter-widgets/controls",
     "model_module_version": "1.5.0",
     "model_name": "ProgressStyleModel",
     "state": {
      "_model_module": "@jupyter-widgets/controls",
      "_model_module_version": "1.5.0",
      "_model_name": "ProgressStyleModel",
      "_view_count": null,
      "_view_module": "@jupyter-widgets/base",
      "_view_module_version": "1.2.0",
      "_view_name": "StyleView",
      "bar_color": null,
      "description_width": ""
     }
    },
    "30f36d046d5349faab24c6ef867632b3": {
     "model_module": "@jupyter-widgets/base",
     "model_module_version": "1.2.0",
     "model_name": "LayoutModel",
     "state": {
      "_model_module": "@jupyter-widgets/base",
      "_model_module_version": "1.2.0",
      "_model_name": "LayoutModel",
      "_view_count": null,
      "_view_module": "@jupyter-widgets/base",
      "_view_module_version": "1.2.0",
      "_view_name": "LayoutView",
      "align_content": null,
      "align_items": null,
      "align_self": null,
      "border": null,
      "bottom": null,
      "display": null,
      "flex": null,
      "flex_flow": null,
      "grid_area": null,
      "grid_auto_columns": null,
      "grid_auto_flow": null,
      "grid_auto_rows": null,
      "grid_column": null,
      "grid_gap": null,
      "grid_row": null,
      "grid_template_areas": null,
      "grid_template_columns": null,
      "grid_template_rows": null,
      "height": null,
      "justify_content": null,
      "justify_items": null,
      "left": null,
      "margin": null,
      "max_height": null,
      "max_width": null,
      "min_height": null,
      "min_width": null,
      "object_fit": null,
      "object_position": null,
      "order": null,
      "overflow": null,
      "overflow_x": null,
      "overflow_y": null,
      "padding": null,
      "right": null,
      "top": null,
      "visibility": null,
      "width": null
     }
    },
    "3e1aeb93805347869b9a55eb65d53883": {
     "model_module": "@jupyter-widgets/controls",
     "model_module_version": "1.5.0",
     "model_name": "HTMLModel",
     "state": {
      "_dom_classes": [],
      "_model_module": "@jupyter-widgets/controls",
      "_model_module_version": "1.5.0",
      "_model_name": "HTMLModel",
      "_view_count": null,
      "_view_module": "@jupyter-widgets/controls",
      "_view_module_version": "1.5.0",
      "_view_name": "HTMLView",
      "description": "",
      "description_tooltip": null,
      "layout": "IPY_MODEL_a0bf2a7acc2543148d556a5f3bd0bfb2",
      "placeholder": "​",
      "style": "IPY_MODEL_94fbc27e7fb642e7a6e963cbeb99c530",
      "value": ""
     }
    },
    "43f6630de3a0483dbfb517f1c746cc14": {
     "model_module": "@jupyter-widgets/controls",
     "model_module_version": "1.5.0",
     "model_name": "HBoxModel",
     "state": {
      "_dom_classes": [],
      "_model_module": "@jupyter-widgets/controls",
      "_model_module_version": "1.5.0",
      "_model_name": "HBoxModel",
      "_view_count": null,
      "_view_module": "@jupyter-widgets/controls",
      "_view_module_version": "1.5.0",
      "_view_name": "HBoxView",
      "box_style": "",
      "children": [
       "IPY_MODEL_3e1aeb93805347869b9a55eb65d53883",
       "IPY_MODEL_6ea91058de194d21b2927b2360dd72de",
       "IPY_MODEL_1badfba111d44863b24982e00106e802"
      ],
      "layout": "IPY_MODEL_fe8a853789c348e588b2d6454f0160c1"
     }
    },
    "5eb86f5473f949feafe36c31207a1e09": {
     "model_module": "@jupyter-widgets/controls",
     "model_module_version": "1.5.0",
     "model_name": "HTMLModel",
     "state": {
      "_dom_classes": [],
      "_model_module": "@jupyter-widgets/controls",
      "_model_module_version": "1.5.0",
      "_model_name": "HTMLModel",
      "_view_count": null,
      "_view_module": "@jupyter-widgets/controls",
      "_view_module_version": "1.5.0",
      "_view_name": "HTMLView",
      "description": "",
      "description_tooltip": null,
      "layout": "IPY_MODEL_6b29fc0fdc25485594d123e49122e9c2",
      "placeholder": "​",
      "style": "IPY_MODEL_a3146d5ff2e04c15bcb3545c492471bd",
      "value": "100%"
     }
    },
    "6b29fc0fdc25485594d123e49122e9c2": {
     "model_module": "@jupyter-widgets/base",
     "model_module_version": "1.2.0",
     "model_name": "LayoutModel",
     "state": {
      "_model_module": "@jupyter-widgets/base",
      "_model_module_version": "1.2.0",
      "_model_name": "LayoutModel",
      "_view_count": null,
      "_view_module": "@jupyter-widgets/base",
      "_view_module_version": "1.2.0",
      "_view_name": "LayoutView",
      "align_content": null,
      "align_items": null,
      "align_self": null,
      "border": null,
      "bottom": null,
      "display": null,
      "flex": null,
      "flex_flow": null,
      "grid_area": null,
      "grid_auto_columns": null,
      "grid_auto_flow": null,
      "grid_auto_rows": null,
      "grid_column": null,
      "grid_gap": null,
      "grid_row": null,
      "grid_template_areas": null,
      "grid_template_columns": null,
      "grid_template_rows": null,
      "height": null,
      "justify_content": null,
      "justify_items": null,
      "left": null,
      "margin": null,
      "max_height": null,
      "max_width": null,
      "min_height": null,
      "min_width": null,
      "object_fit": null,
      "object_position": null,
      "order": null,
      "overflow": null,
      "overflow_x": null,
      "overflow_y": null,
      "padding": null,
      "right": null,
      "top": null,
      "visibility": null,
      "width": null
     }
    },
    "6ea91058de194d21b2927b2360dd72de": {
     "model_module": "@jupyter-widgets/controls",
     "model_module_version": "1.5.0",
     "model_name": "FloatProgressModel",
     "state": {
      "_dom_classes": [],
      "_model_module": "@jupyter-widgets/controls",
      "_model_module_version": "1.5.0",
      "_model_name": "FloatProgressModel",
      "_view_count": null,
      "_view_module": "@jupyter-widgets/controls",
      "_view_module_version": "1.5.0",
      "_view_name": "ProgressView",
      "bar_style": "success",
      "description": "",
      "description_tooltip": null,
      "layout": "IPY_MODEL_c64cf56dbc744fd6944cd8175aa56505",
      "max": 1,
      "min": 0,
      "orientation": "horizontal",
      "style": "IPY_MODEL_2eef9b2406f648a491ac3d7b4e59976b",
      "value": 1
     }
    },
    "94fbc27e7fb642e7a6e963cbeb99c530": {
     "model_module": "@jupyter-widgets/controls",
     "model_module_version": "1.5.0",
     "model_name": "DescriptionStyleModel",
     "state": {
      "_model_module": "@jupyter-widgets/controls",
      "_model_module_version": "1.5.0",
      "_model_name": "DescriptionStyleModel",
      "_view_count": null,
      "_view_module": "@jupyter-widgets/base",
      "_view_module_version": "1.2.0",
      "_view_name": "StyleView",
      "description_width": ""
     }
    },
    "a0bf2a7acc2543148d556a5f3bd0bfb2": {
     "model_module": "@jupyter-widgets/base",
     "model_module_version": "1.2.0",
     "model_name": "LayoutModel",
     "state": {
      "_model_module": "@jupyter-widgets/base",
      "_model_module_version": "1.2.0",
      "_model_name": "LayoutModel",
      "_view_count": null,
      "_view_module": "@jupyter-widgets/base",
      "_view_module_version": "1.2.0",
      "_view_name": "LayoutView",
      "align_content": null,
      "align_items": null,
      "align_self": null,
      "border": null,
      "bottom": null,
      "display": null,
      "flex": null,
      "flex_flow": null,
      "grid_area": null,
      "grid_auto_columns": null,
      "grid_auto_flow": null,
      "grid_auto_rows": null,
      "grid_column": null,
      "grid_gap": null,
      "grid_row": null,
      "grid_template_areas": null,
      "grid_template_columns": null,
      "grid_template_rows": null,
      "height": null,
      "justify_content": null,
      "justify_items": null,
      "left": null,
      "margin": null,
      "max_height": null,
      "max_width": null,
      "min_height": null,
      "min_width": null,
      "object_fit": null,
      "object_position": null,
      "order": null,
      "overflow": null,
      "overflow_x": null,
      "overflow_y": null,
      "padding": null,
      "right": null,
      "top": null,
      "visibility": null,
      "width": null
     }
    },
    "a3146d5ff2e04c15bcb3545c492471bd": {
     "model_module": "@jupyter-widgets/controls",
     "model_module_version": "1.5.0",
     "model_name": "DescriptionStyleModel",
     "state": {
      "_model_module": "@jupyter-widgets/controls",
      "_model_module_version": "1.5.0",
      "_model_name": "DescriptionStyleModel",
      "_view_count": null,
      "_view_module": "@jupyter-widgets/base",
      "_view_module_version": "1.2.0",
      "_view_name": "StyleView",
      "description_width": ""
     }
    },
    "c33844acf7dd475488d024bc664c4670": {
     "model_module": "@jupyter-widgets/base",
     "model_module_version": "1.2.0",
     "model_name": "LayoutModel",
     "state": {
      "_model_module": "@jupyter-widgets/base",
      "_model_module_version": "1.2.0",
      "_model_name": "LayoutModel",
      "_view_count": null,
      "_view_module": "@jupyter-widgets/base",
      "_view_module_version": "1.2.0",
      "_view_name": "LayoutView",
      "align_content": null,
      "align_items": null,
      "align_self": null,
      "border": null,
      "bottom": null,
      "display": null,
      "flex": null,
      "flex_flow": null,
      "grid_area": null,
      "grid_auto_columns": null,
      "grid_auto_flow": null,
      "grid_auto_rows": null,
      "grid_column": null,
      "grid_gap": null,
      "grid_row": null,
      "grid_template_areas": null,
      "grid_template_columns": null,
      "grid_template_rows": null,
      "height": null,
      "justify_content": null,
      "justify_items": null,
      "left": null,
      "margin": null,
      "max_height": null,
      "max_width": null,
      "min_height": null,
      "min_width": null,
      "object_fit": null,
      "object_position": null,
      "order": null,
      "overflow": null,
      "overflow_x": null,
      "overflow_y": null,
      "padding": null,
      "right": null,
      "top": null,
      "visibility": null,
      "width": null
     }
    },
    "c4b565f7a4af4565af0af9a03be42423": {
     "model_module": "@jupyter-widgets/controls",
     "model_module_version": "1.5.0",
     "model_name": "FloatProgressModel",
     "state": {
      "_dom_classes": [],
      "_model_module": "@jupyter-widgets/controls",
      "_model_module_version": "1.5.0",
      "_model_name": "FloatProgressModel",
      "_view_count": null,
      "_view_module": "@jupyter-widgets/controls",
      "_view_module_version": "1.5.0",
      "_view_name": "ProgressView",
      "bar_style": "success",
      "description": "",
      "description_tooltip": null,
      "layout": "IPY_MODEL_0fc11ffd158b4238be1f582790c8bb90",
      "max": 100,
      "min": 0,
      "orientation": "horizontal",
      "style": "IPY_MODEL_db0effbcf1d742e5839d654ee2744b88",
      "value": 100
     }
    },
    "c64cf56dbc744fd6944cd8175aa56505": {
     "model_module": "@jupyter-widgets/base",
     "model_module_version": "1.2.0",
     "model_name": "LayoutModel",
     "state": {
      "_model_module": "@jupyter-widgets/base",
      "_model_module_version": "1.2.0",
      "_model_name": "LayoutModel",
      "_view_count": null,
      "_view_module": "@jupyter-widgets/base",
      "_view_module_version": "1.2.0",
      "_view_name": "LayoutView",
      "align_content": null,
      "align_items": null,
      "align_self": null,
      "border": null,
      "bottom": null,
      "display": null,
      "flex": null,
      "flex_flow": null,
      "grid_area": null,
      "grid_auto_columns": null,
      "grid_auto_flow": null,
      "grid_auto_rows": null,
      "grid_column": null,
      "grid_gap": null,
      "grid_row": null,
      "grid_template_areas": null,
      "grid_template_columns": null,
      "grid_template_rows": null,
      "height": null,
      "justify_content": null,
      "justify_items": null,
      "left": null,
      "margin": null,
      "max_height": null,
      "max_width": null,
      "min_height": null,
      "min_width": null,
      "object_fit": null,
      "object_position": null,
      "order": null,
      "overflow": null,
      "overflow_x": null,
      "overflow_y": null,
      "padding": null,
      "right": null,
      "top": null,
      "visibility": null,
      "width": "20px"
     }
    },
    "c80d9cf5400344ef92c114b441db99b8": {
     "model_module": "@jupyter-widgets/base",
     "model_module_version": "1.2.0",
     "model_name": "LayoutModel",
     "state": {
      "_model_module": "@jupyter-widgets/base",
      "_model_module_version": "1.2.0",
      "_model_name": "LayoutModel",
      "_view_count": null,
      "_view_module": "@jupyter-widgets/base",
      "_view_module_version": "1.2.0",
      "_view_name": "LayoutView",
      "align_content": null,
      "align_items": null,
      "align_self": null,
      "border": null,
      "bottom": null,
      "display": null,
      "flex": null,
      "flex_flow": null,
      "grid_area": null,
      "grid_auto_columns": null,
      "grid_auto_flow": null,
      "grid_auto_rows": null,
      "grid_column": null,
      "grid_gap": null,
      "grid_row": null,
      "grid_template_areas": null,
      "grid_template_columns": null,
      "grid_template_rows": null,
      "height": null,
      "justify_content": null,
      "justify_items": null,
      "left": null,
      "margin": null,
      "max_height": null,
      "max_width": null,
      "min_height": null,
      "min_width": null,
      "object_fit": null,
      "object_position": null,
      "order": null,
      "overflow": null,
      "overflow_x": null,
      "overflow_y": null,
      "padding": null,
      "right": null,
      "top": null,
      "visibility": null,
      "width": null
     }
    },
    "db0effbcf1d742e5839d654ee2744b88": {
     "model_module": "@jupyter-widgets/controls",
     "model_module_version": "1.5.0",
     "model_name": "ProgressStyleModel",
     "state": {
      "_model_module": "@jupyter-widgets/controls",
      "_model_module_version": "1.5.0",
      "_model_name": "ProgressStyleModel",
      "_view_count": null,
      "_view_module": "@jupyter-widgets/base",
      "_view_module_version": "1.2.0",
      "_view_name": "StyleView",
      "bar_color": null,
      "description_width": ""
     }
    },
    "ee542ca2713e41efbd0bacf82cf6deb3": {
     "model_module": "@jupyter-widgets/controls",
     "model_module_version": "1.5.0",
     "model_name": "DescriptionStyleModel",
     "state": {
      "_model_module": "@jupyter-widgets/controls",
      "_model_module_version": "1.5.0",
      "_model_name": "DescriptionStyleModel",
      "_view_count": null,
      "_view_module": "@jupyter-widgets/base",
      "_view_module_version": "1.2.0",
      "_view_name": "StyleView",
      "description_width": ""
     }
    },
    "fbfe98656f424dbbad024cb5792ac31b": {
     "model_module": "@jupyter-widgets/controls",
     "model_module_version": "1.5.0",
     "model_name": "HBoxModel",
     "state": {
      "_dom_classes": [],
      "_model_module": "@jupyter-widgets/controls",
      "_model_module_version": "1.5.0",
      "_model_name": "HBoxModel",
      "_view_count": null,
      "_view_module": "@jupyter-widgets/controls",
      "_view_module_version": "1.5.0",
      "_view_name": "HBoxView",
      "box_style": "",
      "children": [
       "IPY_MODEL_5eb86f5473f949feafe36c31207a1e09",
       "IPY_MODEL_c4b565f7a4af4565af0af9a03be42423",
       "IPY_MODEL_255ddfc0eb16489bae5c9b9e006fa06d"
      ],
      "layout": "IPY_MODEL_30f36d046d5349faab24c6ef867632b3"
     }
    },
    "fe8a853789c348e588b2d6454f0160c1": {
     "model_module": "@jupyter-widgets/base",
     "model_module_version": "1.2.0",
     "model_name": "LayoutModel",
     "state": {
      "_model_module": "@jupyter-widgets/base",
      "_model_module_version": "1.2.0",
      "_model_name": "LayoutModel",
      "_view_count": null,
      "_view_module": "@jupyter-widgets/base",
      "_view_module_version": "1.2.0",
      "_view_name": "LayoutView",
      "align_content": null,
      "align_items": null,
      "align_self": null,
      "border": null,
      "bottom": null,
      "display": null,
      "flex": null,
      "flex_flow": null,
      "grid_area": null,
      "grid_auto_columns": null,
      "grid_auto_flow": null,
      "grid_auto_rows": null,
      "grid_column": null,
      "grid_gap": null,
      "grid_row": null,
      "grid_template_areas": null,
      "grid_template_columns": null,
      "grid_template_rows": null,
      "height": null,
      "justify_content": null,
      "justify_items": null,
      "left": null,
      "margin": null,
      "max_height": null,
      "max_width": null,
      "min_height": null,
      "min_width": null,
      "object_fit": null,
      "object_position": null,
      "order": null,
      "overflow": null,
      "overflow_x": null,
      "overflow_y": null,
      "padding": null,
      "right": null,
      "top": null,
      "visibility": null,
      "width": null
     }
    }
   }
  }
 },
 "nbformat": 4,
 "nbformat_minor": 1
}
